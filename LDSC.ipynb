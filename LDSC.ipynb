{
 "cells": [
  {
   "cell_type": "markdown",
   "id": "f8be8b71-7c32-4e90-bc3a-a1f436251dea",
   "metadata": {},
   "source": [
    "# Genetic correlation analysis of ability to smell and Parkinson's disease\n",
    "\n",
    "**Project:** Bidirectional relationship between anosmia and Parkinson's disease\n",
    "\n",
    "**Version:** python/3.7\n",
    "\n",
    "**Status:** COMPLETE\n",
    "\n",
    "**Last Updated:** JUNE-2024\n",
    "\n",
    "## Notebook Overview\n",
    "\n",
    "This notebook will show the code used to run global genetic correlation between PD and ability to smell. Make sure to download the necessary LDSC files: https://github.com/bulik/ldsc"
   ]
  },
  {
   "cell_type": "code",
   "execution_count": null,
   "id": "f464c850-76e4-46c0-941a-63540e969387",
   "metadata": {},
   "outputs": [],
   "source": [
    "munge_sumstats.py \\\n",
    "--sumstats data/formatted_sumstats/ability_to_smell_formatted.tsv.gz \\\n",
    "--N 1427780 \\\n",
    "--out data/ldsc_munged_sumstats/ability_to_smell \\\n",
    "--merge-alleles refdata/w_hm3.snplist"
   ]
  },
  {
   "cell_type": "code",
   "execution_count": null,
   "id": "7bbbef79-efbb-4841-8cf8-eda44322b2fd",
   "metadata": {},
   "outputs": [],
   "source": [
    "munge_sumstats.py \\\n",
    "--sumstats data/formatted_sumstats/PD_clinical_formatted.txt.gz \\\n",
    "--N 27693 \\\n",
    "--out data/ldsc_munged_sumstats/PD_clinical \\\n",
    "--merge-alleles refdata/w_hm3.snplist"
   ]
  },
  {
   "cell_type": "code",
   "execution_count": null,
   "id": "4ed1ec22-ceed-4450-b08c-984a84f349d2",
   "metadata": {},
   "outputs": [],
   "source": [
    "ldsc.py \\\n",
    "--rg data/ldsc_munged_sumstats/PD_clinical.sumstats.gz,data/ldsc_munged_sumstats/ability_to_smell.sumstats.gz \\\n",
    "--ref-ld-chr refdata/eur_w_ld_chr/ \\\n",
    "--w-ld-chr refdata/eur_w_ld_chr/ \\\n",
    "--samp-prev nan,0.544 \\\n",
    "--pop-prev nan,0.005 \\\n",
    "--out results/PDsmell_ldsc"
   ]
  }
 ],
 "metadata": {
  "kernelspec": {
   "display_name": "Bash",
   "language": "bash",
   "name": "bash"
  },
  "language_info": {
   "codemirror_mode": "shell",
   "file_extension": ".sh",
   "mimetype": "text/x-sh",
   "name": "bash"
  }
 },
 "nbformat": 4,
 "nbformat_minor": 5
}
