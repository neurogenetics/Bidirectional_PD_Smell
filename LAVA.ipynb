{
 "cells": [
  {
   "attachments": {},
   "cell_type": "markdown",
   "id": "61bc9ea9-6175-4ad6-8ca5-27d8cc248c12",
   "metadata": {},
   "source": [
    "# LAVA between ability to smell and PD\n",
    "\n",
    "by Jeff Kim\n",
    "\n",
    "----\n",
    "\n",
    "**Project:** Bidirectional relationship between anosmia and Parkinson's disease\n",
    "\n",
    "**Version:** R/4.1\n",
    "\n",
    "**Status:** COMPLETE\n",
    "\n",
    "**Last Updated:** JUNE-2024\n",
    "\n",
    "## Notebook Overview\n",
    "\n",
    "This notebook will show the code used to run global genetic correlation between PD and ability to smell.\n",
    "\n",
    "---\n",
    "\n",
    "# 1. Set up Workspace\n",
    "\n",
    "## 1a. Load packages and set working directory"
   ]
  },
  {
   "cell_type": "code",
   "execution_count": 1,
   "id": "82e57a99-44d0-45e8-94f2-bcce74f9bff0",
   "metadata": {
    "tags": [],
    "vscode": {
     "languageId": "r"
    }
   },
   "outputs": [
    {
     "name": "stderr",
     "output_type": "stream",
     "text": [
      "'getOption(\"repos\")' replaces Bioconductor standard repositories, see\n",
      "'help(\"repositories\", package = \"BiocManager\")' for details.\n",
      "Replacement repositories:\n",
      "    CRAN: https://cran.r-project.org\n",
      "\n",
      "Bioconductor version 3.17 (BiocManager 1.30.22), R 4.3.0 (2023-04-21)\n",
      "\n",
      "Warning message:\n",
      "“package(s) not installed when version(s) same as or greater than current; use\n",
      "  `force = TRUE` to re-install: 'snpStats'”\n",
      "Installation paths not writeable, unable to update packages\n",
      "  path: /usr/local/apps/R/4.3/4.3.0/lib64/R/library\n",
      "  packages:\n",
      "    KernSmooth, foreign, mgcv, nlme, spatial, survival\n",
      "  path: /usr/local/apps/R/4.3/site-library_4.3.0\n",
      "  packages:\n",
      "    CCA, ChIPQC, DT, DelayedMatrixStats, DescTools, DiffBind, EMCluster, FSA,\n",
      "    GenomeInfoDb, GenomicDataCommons, GenomicFeatures, Gmisc, GreyListChIP,\n",
      "    HSAUR2, Hmisc, ICS, Matrix, RNOmni, ROpenCVLite, Rcmdr, RcmdrMisc,\n",
      "    RcppArmadillo, RcppNumerical, Rfit, Rhdf5lib, S4Arrays, Seurat,\n",
      "    StanHeaders, Surrogate, arrow, askpass, biocViews, blockmodeling, classInt,\n",
      "    clusterProfiler, config, credentials, cyclocomp, deSolve, dfoptim,\n",
      "    directlabels, dqrng, eha, enrichplot, episensr, flextable, forecast,\n",
      "    forestplot, gRbase, gamlss, gamlss.dist, gap, gap.datasets, geomorph,\n",
      "    ggeffects, glmmML, gnm, insight, interval, labeling, lmom, lpSolveAPI,\n",
      "    magick, mboost, minpack.lm, minqa, mvtnorm, nnls, packcircles, packrat,\n",
      "    pbdMPI, pbdZMQ, performance, perm, phyclust, prodlim, proj4, qqman,\n",
      "    recipes, rematch, reticulate, rgdal, rgeos, rio, riskRegression, rms,\n",
      "    robCompositions, rsample, rsconnect, rstan, runjags, sensitivity, seqminer,\n",
      "    sf, shinyWidgets, snakecase, spatstat.explore, spatstat.geom,\n",
      "    spatstat.model, spatstat.random, styler, targets, terra, timeSeries, units,\n",
      "    wk, yulab.utils, zCompositions\n",
      "\n",
      "Old packages: 'DEoptimR', 'GPArotation', 'bslib', 'digest', 'dplyr', 'knitr',\n",
      "  'lavaan', 'rmarkdown', 'testthat'\n",
      "\n",
      "Downloading GitHub repo josefin-werme/LAVA@HEAD\n",
      "\n"
     ]
    },
    {
     "name": "stdout",
     "output_type": "stream",
     "text": [
      "keep         (NA -> 1.0  ) [CRAN]\n",
      "matrixsam... (NA -> 2.0.0) [CRAN]\n"
     ]
    },
    {
     "name": "stderr",
     "output_type": "stream",
     "text": [
      "Skipping 1 packages not available: snpStats\n",
      "\n",
      "Installing 2 packages: keep, matrixsampling\n",
      "\n",
      "Installing packages into ‘/gpfs/gsfs9/users/kimjoj/R/rhel8/4.3’\n",
      "(as ‘lib’ is unspecified)\n",
      "\n"
     ]
    },
    {
     "name": "stdout",
     "output_type": "stream",
     "text": [
      "\u001b[36m──\u001b[39m \u001b[36mR CMD build\u001b[39m \u001b[36m───────────────────────────────────────────────────────────────────\u001b[39m\n",
      "\u001b[32m✔\u001b[39m  \u001b[90mchecking for file ‘/lscratch/7954970/Rtmp947kbo/remotesf3744bbf1a1b/josefin-werme-LAVA-5b2adc7/DESCRIPTION’\u001b[39m\u001b[36m\u001b[39m\n",
      "\u001b[90m─\u001b[39m\u001b[90m  \u001b[39m\u001b[90mpreparing ‘LAVA’:\u001b[39m\u001b[36m\u001b[39m\n",
      "\u001b[32m✔\u001b[39m  \u001b[90mchecking DESCRIPTION meta-information\u001b[39m\u001b[36m\u001b[39m\n",
      "\u001b[90m─\u001b[39m\u001b[90m  \u001b[39m\u001b[90minstalling the package to build vignettes\u001b[39m\u001b[36m\u001b[39m\n",
      "\u001b[32m✔\u001b[39m  \u001b[90mcreating vignettes\u001b[39m\u001b[36m\u001b[36m (5s)\u001b[36m\u001b[39m\n",
      "\u001b[90m─\u001b[39m\u001b[90m  \u001b[39m\u001b[90mchecking for LF line-endings in source and make files and shell scripts\u001b[39m\u001b[36m\u001b[39m\n",
      "\u001b[90m─\u001b[39m\u001b[90m  \u001b[39m\u001b[90mchecking for empty or unneeded directories\u001b[39m\u001b[36m\u001b[39m\n",
      "   Omitted ‘LazyData’ from DESCRIPTION\n",
      "\u001b[90m─\u001b[39m\u001b[90m  \u001b[39m\u001b[90mbuilding ‘LAVA_0.1.0.tar.gz’\u001b[39m\u001b[36m\u001b[39m\n",
      "   Warning: invalid uid value replaced by that for user 'nobody'\n",
      "   Warning: invalid gid value replaced by that for user 'nobody'\n",
      "   \n",
      "\r"
     ]
    },
    {
     "name": "stderr",
     "output_type": "stream",
     "text": [
      "Installing package into ‘/gpfs/gsfs9/users/kimjoj/R/rhel8/4.3’\n",
      "(as ‘lib’ is unspecified)\n",
      "\n"
     ]
    }
   ],
   "source": [
    "BiocManager::install(\"snpStats\")\n",
    "devtools::install_github(\"https://github.com/josefin-werme/LAVA.git\", build_vignettes=TRUE)"
   ]
  },
  {
   "cell_type": "raw",
   "id": "401fa4ff-b520-4485-a404-626ab019b9dc",
   "metadata": {},
   "source": [
    "BiocManager::install(\"snpStats\")\n",
    "devtools::install_github(\"https://github.com/josefin-werme/LAVA.git\", build_vignettes=TRUE)"
   ]
  },
  {
   "cell_type": "code",
   "execution_count": null,
   "id": "9de33268-0070-4f18-8710-ae777afbab12",
   "metadata": {
    "vscode": {
     "languageId": "r"
    }
   },
   "outputs": [],
   "source": [
    "libraries <- c(\"data.table\", \"tidyverse\", \"GenomicRanges\", \"qdapTools\", \"stringr\", \"rtracklayer\", \"LAVA\")\n",
    "lapply(libraries, require, character.only = TRUE)"
   ]
  },
  {
   "cell_type": "code",
   "execution_count": null,
   "id": "269c99ed-4572-4ee2-9b45-c17b110f1949",
   "metadata": {
    "vscode": {
     "languageId": "r"
    }
   },
   "outputs": [],
   "source": [
    "setDTthreads(7)\n",
    "\"%+%\" = function(...) paste0(...,sep=\"\")"
   ]
  },
  {
   "attachments": {},
   "cell_type": "markdown",
   "id": "0042276a-7989-46a2-8738-d29e9d36dbfb",
   "metadata": {},
   "source": [
    "# 2. Prepare prerequisite files\n",
    "\n",
    "The required files:\n",
    "\n",
    "1. PLINK reference file - provided by LAVA\n",
    "2. Loci blocks - provided by LAVA\n",
    "3. Table of traits analyzed\n",
    "4. Sample overlap (optional)\n",
    "5. Summary statistics"
   ]
  },
  {
   "attachments": {},
   "cell_type": "markdown",
   "id": "9a946cda-8f49-4c72-80b9-4cc58a92f93e",
   "metadata": {},
   "source": [
    "## 2a. Table of traits analyzed\n",
    "\n",
    "-   **Input info file**, used for convenient processing of multiple\n",
    "    phenotypes. Requires the columns:\n",
    "\n",
    "    -   ***phenotype***: phenotype IDs\n",
    "\n",
    "    -   ***cases***: number of cases (set to NA for continuous\n",
    "        phenotypes)\n",
    "\n",
    "    -   ***controls:*** number of controls (set to NA for continuous\n",
    "        phenotypes)\n",
    "\n",
    "    -   ***prevalence*** (optional): the population prevalence of binary\n",
    "        phenotypes\n",
    "\n",
    "        -   this is only relevant if you want an estimate of the local\n",
    "            population *h*<sup>2</sup> for binary phenotypes. Estimates\n",
    "            of the observed local sample *h*<sup>2</sup> are still\n",
    "            provided\n",
    "\n",
    "    -   ***filename***: paths and file names to the relevant summary\n",
    "        statistics"
   ]
  },
  {
   "cell_type": "code",
   "execution_count": null,
   "id": "b6b35459-43cb-4adc-8aff-1610250e1331",
   "metadata": {
    "vscode": {
     "languageId": "r"
    }
   },
   "outputs": [],
   "source": [
    "studies_PD_smell <- data.table(\n",
    "    phenotype = c('ability_to_smell', 'PD'),\n",
    "    cases = c(NA, 15056),\n",
    "    controls = c(NA, 12637),\n",
    "    pop_prevalence = c(NA, 0.005),\n",
    "    path = c('data/ldsc_munged_sumstats/PD_clinical.sumstats.gz', \"data/ldsc_munged_sumstats/ability_to_smell_ldsc.sumstats.gz\")\n",
    ")"
   ]
  },
  {
   "cell_type": "code",
   "execution_count": null,
   "id": "c3d9525b-06b9-42b4-8e34-52c4aa1857d0",
   "metadata": {
    "vscode": {
     "languageId": "r"
    }
   },
   "outputs": [],
   "source": [
    "fwrite(\n",
    "    studies_PD_smell_final,\n",
    "    \"phenotype_list/phenotypes_prevalence_PDsmell.LAVA.txt\",\n",
    "    sep = '\\t',\n",
    "    na = \"NA\",\n",
    "    quote = F\n",
    ")"
   ]
  },
  {
   "attachments": {},
   "cell_type": "markdown",
   "id": "0f36101f-cb03-4cc6-a8e4-3c755e72ac08",
   "metadata": {},
   "source": [
    "## 2b. Loci blocks\n",
    "\n",
    "Required columns are LOC, CHR, START, STOP\n",
    "\n",
    "Shamelessly borrowed from Regina Reynolds: https://github.com/RHReynolds/neurodegen-psych-local-corr\n",
    "\n",
    "Two types will be generated: all LD blocks and blocks with significant variants in any of the GWAS.\n",
    "\n",
    "### All LD blocks"
   ]
  },
  {
   "cell_type": "code",
   "execution_count": null,
   "id": "dadbe10d-3e86-4559-b400-4ada2747d85c",
   "metadata": {
    "vscode": {
     "languageId": "r"
    }
   },
   "outputs": [],
   "source": [
    "ld_blocks <- fread(\"refdata/LAVA/LAVA_s2500_m25_f1_w200.blocks\")"
   ]
  },
  {
   "cell_type": "code",
   "execution_count": null,
   "id": "e73ae2dc-12f1-4818-9ffb-dfc1ec495dea",
   "metadata": {
    "vscode": {
     "languageId": "r"
    }
   },
   "outputs": [],
   "source": [
    "ld_blocks_all <- ld_blocks\n",
    "ld_blocks_all <- ld_blocks_all %>% rename(\n",
    "    \"chr\"=\"CHR\",\n",
    "    \"start\"=\"START\",\n",
    "    \"stop\"=\"STOP\"\n",
    ")\n",
    "ld_blocks_all <- ld_blocks_all[, LOC := 1:nrow(ld_blocks_all)]\n",
    "head(ld_blocks_all)"
   ]
  },
  {
   "cell_type": "code",
   "execution_count": null,
   "id": "d6057902-308a-480d-8c12-53869a74b784",
   "metadata": {
    "vscode": {
     "languageId": "r"
    }
   },
   "outputs": [],
   "source": [
    "ld_blocks_all <- ld_blocks_all[, c(\"LOC\",\"CHR\",\"START\",\"STOP\")]\n",
    "fwrite(\n",
    "    ld_blocks_all,\n",
    "    sep = \"\\t\",\n",
    "    file = paste0(\"refdata/LAVA/loci_blocks/all/EUR.all_blocks.loci\")\n",
    ")\n",
    "for (i in 1:22) {\n",
    "    fwrite(\n",
    "        ld_blocks_all[CHR==i],\n",
    "        sep = \"\\t\",\n",
    "        file = paste0(\"refdata/LAVA/loci_blocks/all/EUR.all_blocks.CHR\", i, \".loci\")\n",
    "    )\n",
    "}"
   ]
  },
  {
   "attachments": {},
   "cell_type": "markdown",
   "id": "531f3641-b4b8-4639-bc80-b0c0ee47c2ef",
   "metadata": {},
   "source": [
    "### GWAS significant blocks"
   ]
  },
  {
   "cell_type": "code",
   "execution_count": null,
   "id": "7b525d85-2320-47ef-9390-25678e66140e",
   "metadata": {
    "vscode": {
     "languageId": "r"
    }
   },
   "outputs": [],
   "source": [
    "studies_PD_smell_final <- fread(\"phenotype_list/phenotypes_prevalence_PDsmell.LAVA.txt\")"
   ]
  },
  {
   "cell_type": "code",
   "execution_count": null,
   "id": "08f3825d-4df7-43d4-aede-fc4f9603db8a",
   "metadata": {
    "vscode": {
     "languageId": "r"
    }
   },
   "outputs": [],
   "source": [
    "gwas_list <-\n",
    "  setNames(\n",
    "    object = list(\n",
    "      fread(\"data/formatted_sumstats/ability_to_smell_formatted.tsv.gz\"),\n",
    "      fread(\"data/formatted_sumstats/PD_formatted.tsv.gz\")\n",
    "    ),\n",
    "    nm = c(\"ability_to_smell\", \"PD\")\n",
    "  )"
   ]
  },
  {
   "cell_type": "code",
   "execution_count": null,
   "id": "86e08c76-7ee9-4bba-9667-3cebfd751634",
   "metadata": {
    "vscode": {
     "languageId": "r"
    }
   },
   "outputs": [],
   "source": [
    "ref <- import(\"refdata/Homo_sapiens.GRCh37.87.gtf\")\n",
    "ref <- ref %>% keepSeqlevels(c(1:22), pruning.mode = \"coarse\")\n",
    "ref <- ref[ref$type == \"gene\"]"
   ]
  },
  {
   "cell_type": "code",
   "execution_count": null,
   "id": "a8ea439a-be91-417f-afdb-b4d16cece5db",
   "metadata": {
    "vscode": {
     "languageId": "r"
    }
   },
   "outputs": [],
   "source": [
    "# Main --------------------------------------------------------------------\n",
    "\n",
    "# Filter for only genome-wide significant loci and convert to granges\n",
    "gr_list <-\n",
    "  gwas_list %>%\n",
    "  lapply(., function(gwas){\n",
    "    gwas %>%\n",
    "      dplyr::filter(P < 5e-8) %>%\n",
    "      GenomicRanges::makeGRangesFromDataFrame(\n",
    "        .,\n",
    "        keep.extra.columns = TRUE,\n",
    "        ignore.strand = TRUE,\n",
    "        seqinfo = NULL,\n",
    "        seqnames.field = \"CHR\",\n",
    "        start.field = \"BP\",\n",
    "        end.field = \"BP\"\n",
    "      )\n",
    "  })\n",
    "\n",
    "# Add locus id and rename remaining columns to fit LAVA requirements\n",
    "ld_blocks <-\n",
    "  ld_blocks %>%\n",
    "  dplyr::rename_with(\n",
    "    .fn = stringr::str_to_upper,\n",
    "    .cols = everything()\n",
    "  ) %>%\n",
    "  dplyr::mutate(\n",
    "    LOC = dplyr::row_number()\n",
    "  ) %>%\n",
    "  dplyr::select(LOC, everything())\n",
    "\n",
    "# Convert to granges\n",
    "ld_blocks_gr <-\n",
    "  ld_blocks %>%\n",
    "  GenomicRanges::makeGRangesFromDataFrame(\n",
    "    .,\n",
    "    keep.extra.columns = TRUE,\n",
    "    ignore.strand = TRUE,\n",
    "    seqinfo = NULL,\n",
    "    seqnames.field = \"chr\",\n",
    "    start.field = \"start\",\n",
    "    end.field = \"stop\"\n",
    "  )\n",
    "\n",
    "# Overlap granges objects\n",
    "overlap_list <-\n",
    "  gr_list %>%\n",
    "  lapply(., function(gr){\n",
    "    GenomicRanges::findOverlaps(gr, ld_blocks_gr, type = \"within\") %>%\n",
    "      as_tibble()\n",
    "  })\n",
    "\n",
    "\n",
    "# Extract relevant rows from ld_blocks using overlap indices\n",
    "# Rename remaining columns to fit with LAVA requirements\n",
    "loci <-\n",
    "  ld_blocks %>%\n",
    "  dplyr::slice(\n",
    "    overlap_list %>%\n",
    "      qdapTools::list_df2df(col1 = \"gwas\") %>%\n",
    "      .[[\"subjectHits\"]] %>%\n",
    "      unique()\n",
    "    ) %>%\n",
    "  dplyr::arrange(LOC)"
   ]
  },
  {
   "cell_type": "code",
   "execution_count": null,
   "id": "d4a4846b-8484-4286-805c-231966ccbc12",
   "metadata": {
    "vscode": {
     "languageId": "r"
    }
   },
   "outputs": [],
   "source": [
    "out_dir <- \"refdata/LAVA\"\n",
    "fwrite(\n",
    "  loci,\n",
    "  sep = \"\\t\",\n",
    "  file = file.path(out_dir, \"gwas_filtered.loci\")\n",
    "  )"
   ]
  },
  {
   "cell_type": "code",
   "execution_count": null,
   "id": "b1655133-08dc-43ad-ad22-029c09580846",
   "metadata": {
    "vscode": {
     "languageId": "r"
    }
   },
   "outputs": [],
   "source": [
    "# Generate df of GWAS loci that overlap which LD blocks\n",
    "overlap_df_list <- vector(mode = \"list\", length = length(gr_list))\n",
    "\n",
    "for(i in 1:length(gr_list)){\n",
    "\n",
    "  gr <- gr_list[[i]]\n",
    "\n",
    "  names(overlap_df_list)[i] <- names(gr_list)[i]\n",
    "\n",
    "    overlap_df_list[[i]] <-\n",
    "      gr %>%\n",
    "      as_tibble() %>%\n",
    "      dplyr::mutate(\n",
    "        BETA = NA\n",
    "      ) %>%\n",
    "      dplyr::select(seqnames, start, end, SNP, A1, A2, MAF, BETA, SE, P, N)\n",
    "\n",
    "  overlap_df_list[[i]] <-\n",
    "    overlap_df_list[[i]] %>%\n",
    "    dplyr::rename_with(\n",
    "      ~ stringr::str_c(\"GWAS\", .x, sep = \"_\")\n",
    "    ) %>%\n",
    "    dplyr::slice(overlap_list[[i]]$queryHits) %>%\n",
    "    dplyr::bind_cols(\n",
    "      ld_blocks_gr %>%\n",
    "        as_tibble() %>%\n",
    "        dplyr::rename_with(\n",
    "          ~ stringr::str_c(\"LD\", .x, sep = \"_\")\n",
    "        ) %>%\n",
    "        dplyr::slice(overlap_list[[i]]$subjectHits)\n",
    "    ) %>%\n",
    "    dplyr::select(-contains(\"strand\")) %>%\n",
    "    dplyr::rename_with(\n",
    "      ~ stringr::str_replace(.x,\n",
    "                             pattern = \"seqnames\",\n",
    "                             replacement = \"CHR\"),\n",
    "      .col = dplyr::ends_with(\"seqnames\"))\n",
    "\n",
    "}\n",
    "\n",
    "overlap_df <-\n",
    "  overlap_df_list %>%\n",
    "  qdapTools::list_df2df(col1= \"GWAS\")\n",
    "\n",
    "# Generate df of associated GWAS and genes that overlap investigated LD blocks\n",
    "loci_gr <-\n",
    "  loci %>%\n",
    "  GenomicRanges::makeGRangesFromDataFrame(\n",
    "    .,\n",
    "    keep.extra.columns = TRUE,\n",
    "    ignore.strand = TRUE,\n",
    "    seqinfo = NULL,\n",
    "    seqnames.field = \"CHR\",\n",
    "    start.field = \"START\",\n",
    "    end.field = \"STOP\"\n",
    "  )\n",
    "\n",
    "overlap <-\n",
    "  GenomicRanges::findOverlaps(loci_gr, ref) %>%\n",
    "  tibble::as_tibble()\n",
    "\n",
    "loci_genes <-\n",
    "  tibble::tibble(\n",
    "    locus = loci_gr[overlap$queryHits]$LOC,\n",
    "    chr = loci_gr[overlap$queryHits] %>% GenomeInfoDb::seqnames() %>% as.character(),\n",
    "    locus_start = loci_gr[overlap$queryHits] %>% BiocGenerics::start(),\n",
    "    locus_end = loci_gr[overlap$queryHits] %>% BiocGenerics::end(),\n",
    "    gene_id = ref[overlap$subjectHits]$gene_id,\n",
    "    gene_name =\n",
    "      ref[overlap$subjectHits]$gene_name %>%\n",
    "      stringr::str_replace_all(\"-\", \"_\") %>%\n",
    "      stringr::str_replace_all(\"\\\\.\", \"_\")\n",
    "  ) %>%\n",
    "  dplyr::group_by(locus, chr, locus_start, locus_end) %>%\n",
    "  dplyr::summarise(\n",
    "    n_overlapping_genes = n(),\n",
    "    overlapping_gene_id = list(gene_id),\n",
    "    overlapping_gene_name = list(gene_name)\n",
    "      )\n",
    "\n",
    "loci_genes_gwas_df <-\n",
    "  loci_genes %>%\n",
    "  dplyr::inner_join(\n",
    "    overlap_df %>%\n",
    "      dplyr::distinct(GWAS, LD_LOC) %>%\n",
    "      dplyr::group_by(LD_LOC) %>%\n",
    "      dplyr::summarise(\n",
    "        n_assoc_gwas = n(),\n",
    "        assoc_gwas = list(str_to_upper(GWAS))\n",
    "        ),\n",
    "    by = c(\"locus\" = \"LD_LOC\")\n",
    "  )\n",
    "\n",
    "# Save data ---------------------------------------------------------------\n",
    "\n",
    "out_dir <- \"refdata/LAVA\"\n",
    "fwrite(\n",
    "  loci,\n",
    "  sep = \"\\t\",\n",
    "  file = file.path(out_dir, \"gwas_filtered.loci\")\n",
    "  )\n",
    "saveRDS(\n",
    "  overlap_df,\n",
    "  file = file.path(out_dir, \"gwas_filtered_loci.rds\")\n",
    "  )\n",
    "saveRDS(\n",
    "  loci_genes_gwas_df,\n",
    "  file = file.path(out_dir, \"gwas_filtered_loci_w_genes.rds\")\n",
    ")"
   ]
  },
  {
   "cell_type": "code",
   "execution_count": null,
   "id": "69b5ce9c-7b8f-4f4b-95fd-cccbdc2f4d9f",
   "metadata": {
    "vscode": {
     "languageId": "r"
    }
   },
   "outputs": [],
   "source": [
    "for (i in unique(loci$CHR)) {\n",
    "    fwrite(\n",
    "        loci[CHR==i],\n",
    "        sep = \"\\t\",\n",
    "        file = paste0(out_dir, \"/gwas_filtered.CHR\", i, \".loci\")\n",
    "    )\n",
    "}"
   ]
  },
  {
   "attachments": {},
   "cell_type": "markdown",
   "id": "af938166-3049-4a5f-9e2e-0391413a6125",
   "metadata": {},
   "source": [
    "# 2. Run LAVA"
   ]
  },
  {
   "attachments": {},
   "cell_type": "markdown",
   "id": "180bc3ec-cadc-468d-9964-caf2e77c0c02",
   "metadata": {},
   "source": [
    "To run in parallel per chromosome, an R script and bash scripts were made. Each instance were assigned used ~5Gb of ram and it took less than 15 minutes to run with 1 core.\n",
    "\n",
    "For chromosome 1, the bash script:"
   ]
  },
  {
   "cell_type": "raw",
   "id": "ea878399-3aed-4fa9-a319-b27c62de24e7",
   "metadata": {},
   "source": [
    "Rscript scripts/LAVA_script.R \"refdata/LAVA/g1000_eur\" \"refdata/LAVA/gwas_filtered.CHR1.loci\" \"phenotype_list/phenotypes_prevalence_PDsmell.LAVA.txt\" \"\" \"ability_to_smell;PD\" \"results/LAVA/PDsmell.CHR1\""
   ]
  },
  {
   "attachments": {},
   "cell_type": "markdown",
   "id": "4e3d4807-46f5-48d5-b81f-4ce63a48453e",
   "metadata": {},
   "source": [
    "R script (`LAVA_script.R`)"
   ]
  },
  {
   "cell_type": "raw",
   "id": "8018cbe8-41a8-4e8a-8391-b6dd5baf201a",
   "metadata": {},
   "source": [
    "# command line arguments, specifying input/output file names and phenotype subset\n",
    "arg = commandArgs(T); ref.prefix = arg[1]; loc.file = arg[2]; info.file = arg[3]; sample.overlap.file = arg[4]; phenos = unlist(strsplit(arg[5],\";\")); out.fname = arg[6]\n",
    "\n",
    "### Load package\n",
    "library(data.table)\n",
    "library(LAVA)\n",
    "\n",
    "### Read in data\n",
    "loci = read.loci(loc.file); n.loc = nrow(loci)\n",
    "if (sample.overlap.file == \"\") {\n",
    "    input = process.input(\n",
    "        info.file,\n",
    "        sample.overlap.file = NULL,\n",
    "        ref.prefix,\n",
    "        phenos\n",
    "    )\n",
    "} else {\n",
    "    input = process.input(info.file, sample.overlap.file, ref.prefix, phenos)\n",
    "}\n",
    "\n",
    "### Set univariate pvalue threshold\n",
    "univ.p.thresh = #[SET]\n",
    "\n",
    "### Analyse\n",
    "print(paste(\"Starting LAVA analysis for\",n.loc,\"loci\"))\n",
    "progress = ceiling(quantile(1:n.loc, seq(.05,1,.05)))   # (if you want to print the progress)\n",
    "\n",
    "u=b=list()\n",
    "for (i in 1:n.loc) {\n",
    "        if (i %in% progress) print(paste(\"..\",names(progress[which(progress==i)])))     # (printing progress)\n",
    "        locus = process.locus(loci[i,], input)                                          # process locus\n",
    "        \n",
    "        # It is possible that the locus cannot be defined for various reasons (e.g. too few SNPs), so the !is.null(locus) check is necessary before calling the analysis functions.\n",
    "        if (!is.null(locus)) {\n",
    "                # extract some general locus info for the output\n",
    "                loc.info = data.frame(locus = locus$id, chr = locus$chr, start = locus$start, stop = locus$stop, n.snps = locus$n.snps, n.pcs = locus$K)\n",
    "                \n",
    "                # run the univariate and bivariate tests\n",
    "                loc.out = run.univ.bivar(locus, univ.thresh = univ.p.thresh)\n",
    "                u[[i]] = cbind(loc.info, loc.out$univ)\n",
    "                if(!is.null(loc.out$bivar)) b[[i]] = cbind(loc.info, loc.out$bivar)\n",
    "        }\n",
    "}\n",
    "\n",
    "saveRDS(\n",
    "    u,\n",
    "    paste0(out.fname,\".univ.lava.RDS\")\n",
    ")\n",
    "\n",
    "saveRDS(\n",
    "    b,\n",
    "    paste0(out.fname,\".bivar.lava.RDS\")\n",
    ")\n",
    "\n",
    "# save the output\n",
    "fwrite(rbindlist(u, fill = T), paste0(out.fname,\".univ.lava\"), quote=F)\n",
    "fwrite(rbindlist(u, fill = T), paste0(out.fname,\".bivar.lava\"), quote=F)\n",
    "\n",
    "print(paste0(\"Done! Analysis output written to \",out.fname,\".*.lava\"))"
   ]
  },
  {
   "attachments": {},
   "cell_type": "markdown",
   "id": "a80fee30-fa1d-4840-87f6-cb2d5d7c4d7c",
   "metadata": {},
   "source": [
    "# 3. After the run"
   ]
  },
  {
   "cell_type": "code",
   "execution_count": null,
   "id": "4c99b266-0d28-436a-92be-204e5f34e8dd",
   "metadata": {
    "vscode": {
     "languageId": "r"
    }
   },
   "outputs": [],
   "source": [
    "temp <- paste0(\"results/LAVA/sigLoci/PDsmell.CHR\", 1, \".bivar.lava.RDS\") %>% readRDS()"
   ]
  },
  {
   "cell_type": "code",
   "execution_count": null,
   "id": "76127f30-ba7e-406f-b1c2-20061aa722cc",
   "metadata": {
    "vscode": {
     "languageId": "r"
    }
   },
   "outputs": [],
   "source": [
    "for (i in 1:22) {\n",
    "    temp1 <- paste0(\"results/LAVA/sigLoci/PDsmell.CHR\", i, \".bivar.lava.RDS\") %>% readRDS()\n",
    "    tempDT1 <- rbindlist(temp1)\n",
    "    temp2 <- paste0(\"results/LAVA/sigLoci/PDsmell.CHR\", i, \".univ.lava.RDS\") %>% readRDS()\n",
    "    tempDT2 <- rbindlist(temp2, fill = T)\n",
    "    if (i == 1) {\n",
    "        LavaBivResDT <- tempDT1\n",
    "        LavaUniResDT <- tempDT2\n",
    "    } else {\n",
    "        LavaBivResDT <- rbind(LavaBivResDT, tempDT1, fill = T)\n",
    "        LavaUniResDT <- rbind(LavaUniResDT, tempDT2, fill = T)\n",
    "    }\n",
    "}"
   ]
  },
  {
   "cell_type": "code",
   "execution_count": null,
   "id": "1c0ad41a-d0dc-4290-b180-53ce17bdff5a",
   "metadata": {
    "vscode": {
     "languageId": "r"
    }
   },
   "outputs": [],
   "source": [
    "fwrite(\n",
    "    LavaBivResDT,\n",
    "    \"results/LAVA/sigLoci/aggregate.PDsmell.bivar.lava.txt\",\n",
    "    sep = '\\t'\n",
    ")\n",
    "fwrite(\n",
    "    LavaUniResDT,\n",
    "    \"results/LAVA/sigLoci/aggregate.PDsmell.univ.lava.txt\",\n",
    "    sep = '\\t'\n",
    ")"
   ]
  },
  {
   "attachments": {},
   "cell_type": "markdown",
   "id": "ec70322a-316a-45fb-a071-137618dc9f19",
   "metadata": {},
   "source": [
    "## 3a. Check valid loci using univariate results"
   ]
  },
  {
   "cell_type": "code",
   "execution_count": null,
   "id": "f5aa27e4-0cfe-429b-b0f7-a5ec993abb61",
   "metadata": {
    "vscode": {
     "languageId": "r"
    }
   },
   "outputs": [],
   "source": [
    "LavaUniResDT <- fread(\"results/LAVA/sigLoci/aggregate.PDsmell.univ.lava.txt\")"
   ]
  },
  {
   "attachments": {},
   "cell_type": "markdown",
   "id": "52525043-6b9b-400a-b3d9-884942dd081c",
   "metadata": {},
   "source": [
    "Let's remove MHC region\n",
    "\n",
    "MHC region: 6:28477797-33448354\n"
   ]
  },
  {
   "cell_type": "code",
   "execution_count": null,
   "id": "f6710178-b8fe-4955-b863-71e092e63225",
   "metadata": {
    "vscode": {
     "languageId": "r"
    }
   },
   "outputs": [],
   "source": [
    "LavaUniResDT <- LavaUniResDT[!(chr == 6 & start >= 28477797 & stop <= 33448354)]"
   ]
  },
  {
   "cell_type": "code",
   "execution_count": null,
   "id": "39121cd5-a728-4b70-9f1b-2864569843b8",
   "metadata": {
    "tags": [],
    "vscode": {
     "languageId": "r"
    }
   },
   "outputs": [],
   "source": [
    "LavaUniResDT <- LavaUniResDT[phen == \"PD\", P_BONF := p*409]\n",
    "LavaUniResDT <- LavaUniResDT[phen == \"ability_to_smell\", P_BONF := p*409]\n",
    "PD_heritable_loci <- LavaUniResDT[phen == \"PD\" & P_BONF < 0.05]$locus\n",
    "smell_heritable_loci <- LavaUniResDT[phen == \"ability_to_smell\" & P_BONF < 0.05]$locus"
   ]
  },
  {
   "cell_type": "code",
   "execution_count": null,
   "id": "85677a85-0d3d-4bad-ab68-20d88a81af49",
   "metadata": {
    "vscode": {
     "languageId": "r"
    }
   },
   "outputs": [],
   "source": [
    "smell_PD_loci <- smell_heritable_loci[smell_heritable_loci %in% PD_heritable_loci]"
   ]
  },
  {
   "attachments": {},
   "cell_type": "markdown",
   "id": "f0860095-3e4b-4939-8495-1454f2894640",
   "metadata": {},
   "source": [
    "## 3b Search valid loci in "
   ]
  },
  {
   "cell_type": "code",
   "execution_count": null,
   "id": "4e4312fe-f460-45e5-b176-3d4e1d401215",
   "metadata": {
    "vscode": {
     "languageId": "r"
    }
   },
   "outputs": [],
   "source": [
    "LavaBivarResDT <- fread(\"results/LAVA/sigLoci/aggregate.PDsmell.bivar.lava.txt\")"
   ]
  },
  {
   "cell_type": "code",
   "execution_count": null,
   "id": "ea1031ea-d13c-490d-a415-20d209b884a4",
   "metadata": {
    "tags": [],
    "vscode": {
     "languageId": "r"
    }
   },
   "outputs": [],
   "source": [
    "LavaBivarResDT_smell_PD <- LavaBivarResDT[phen1 == \"ability_to_smell\" & phen2 == \"PD\" & locus %in% smell_PD_loci]\n",
    "LavaBivarResDT_smell_PD <- LavaBivarResDT_smell_PD[, P_BONF := p.adjust(p, method = \"bonferroni\")]"
   ]
  },
  {
   "cell_type": "code",
   "execution_count": null,
   "id": "6d6aec77-e7dc-428f-a199-88435739548a",
   "metadata": {
    "tags": [],
    "vscode": {
     "languageId": "r"
    }
   },
   "outputs": [],
   "source": [
    "LavaBivarResDT_smell_PD[P_BONF < 0.05]"
   ]
  },
  {
   "cell_type": "code",
   "execution_count": null,
   "id": "9ac18f78-cd08-4604-abab-29d3140e2a13",
   "metadata": {
    "vscode": {
     "languageId": "r"
    }
   },
   "outputs": [],
   "source": [
    "fwrite(\n",
    "    LavaBivarResDT_smell_PD,\n",
    "    \"results/LAVA/sigLoci/aggregate.PDsmell.bivar.validLoci.BONF.lava.txt\",\n",
    "    sep = '\\t',\n",
    "    quote = F,\n",
    "    na = 'NA'\n",
    ")"
   ]
  },
  {
   "cell_type": "code",
   "execution_count": null,
   "id": "c031a463-4977-4fbf-9792-2b43efbbc4ef",
   "metadata": {
    "vscode": {
     "languageId": "r"
    }
   },
   "outputs": [],
   "source": [
    "loci_genes_gwas_df <- readRDS(\"refdata/LAVA/gwas_filtered_loci_w_genes.rds\") %>% as.data.table()"
   ]
  },
  {
   "cell_type": "code",
   "execution_count": null,
   "id": "9d1dda62-cafa-482b-aae1-2f985f696a12",
   "metadata": {
    "vscode": {
     "languageId": "r"
    }
   },
   "outputs": [],
   "source": [
    "loci_genes_gwas_df <- loci_genes_gwas_df[,c(\"locus\", \"n_overlapping_genes\", \"overlapping_gene_id\", \"overlapping_gene_name\", \"n_assoc_gwas\", \"assoc_gwas\")]"
   ]
  },
  {
   "cell_type": "code",
   "execution_count": null,
   "id": "6ab98bb4-9ae2-4363-90a8-207c4e4cea53",
   "metadata": {
    "vscode": {
     "languageId": "r"
    }
   },
   "outputs": [],
   "source": [
    "LavaBivarResDT_annotated <- merge(LavaBivarResDT_wBonf, loci_genes_gwas_df)"
   ]
  },
  {
   "cell_type": "code",
   "execution_count": null,
   "id": "b5a96572-6d57-4bd9-9116-362eb755c613",
   "metadata": {
    "vscode": {
     "languageId": "r"
    }
   },
   "outputs": [],
   "source": [
    "fwrite(\n",
    "    LavaBivarResDT_annotated,\n",
    "    \"results/LAVA/sigLoci/PDSmell.bivar.annotated.txt\",\n",
    "    sep = '\\t',\n",
    "    na = 'NA',\n",
    "    quote = F\n",
    ")"
   ]
  }
 ],
 "metadata": {
  "kernelspec": {
   "display_name": "R/4.3",
   "language": "R",
   "name": "ir43"
  },
  "language_info": {
   "codemirror_mode": "r",
   "file_extension": ".r",
   "mimetype": "text/x-r-source",
   "name": "R",
   "pygments_lexer": "r",
   "version": "4.3.2"
  }
 },
 "nbformat": 4,
 "nbformat_minor": 5
}
