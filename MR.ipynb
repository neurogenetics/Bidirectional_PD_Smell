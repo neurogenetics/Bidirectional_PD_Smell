{
 "cells": [
  {
   "cell_type": "markdown",
   "id": "5a497e79-b074-4f23-acd1-c266772935d0",
   "metadata": {},
   "source": [
    "# Mendelian randomization analysis of ability to smell and Parkinson's disease\n",
    "\n",
    "**Project:** Bidirectional relationship between anosmia and Parkinson's disease\n",
    "\n",
    "**Version:** R/4.1\n",
    "\n",
    "**Status:** COMPLETE\n",
    "\n",
    "**Last Updated:** JUNE-2024\n",
    "\n",
    "## Notebook Overview\n",
    "\n",
    "This notebook will show the code used to run the direction from PD to ability to smell. The same pipeline was used to run the reverse direction."
   ]
  },
  {
   "cell_type": "code",
   "execution_count": 1,
   "id": "2aded5e4-70d1-48f8-9fca-bb3ba8c5fb98",
   "metadata": {},
   "outputs": [
    {
     "name": "stderr",
     "output_type": "stream",
     "text": [
      "Loading required package: data.table\n",
      "\n",
      "Loading required package: tidyverse\n",
      "\n",
      "── \u001b[1mAttaching core tidyverse packages\u001b[22m ──────────────────── tidyverse 2.0.0 ──\n",
      "\u001b[32m✔\u001b[39m \u001b[34mdplyr    \u001b[39m 1.1.4     \u001b[32m✔\u001b[39m \u001b[34mreadr    \u001b[39m 2.1.5\n",
      "\u001b[32m✔\u001b[39m \u001b[34mforcats  \u001b[39m 1.0.0     \u001b[32m✔\u001b[39m \u001b[34mstringr  \u001b[39m 1.5.1\n",
      "\u001b[32m✔\u001b[39m \u001b[34mggplot2  \u001b[39m 3.5.1     \u001b[32m✔\u001b[39m \u001b[34mtibble   \u001b[39m 3.2.1\n",
      "\u001b[32m✔\u001b[39m \u001b[34mlubridate\u001b[39m 1.9.3     \u001b[32m✔\u001b[39m \u001b[34mtidyr    \u001b[39m 1.3.1\n",
      "\u001b[32m✔\u001b[39m \u001b[34mpurrr    \u001b[39m 1.0.2     \n",
      "── \u001b[1mConflicts\u001b[22m ────────────────────────────────────── tidyverse_conflicts() ──\n",
      "\u001b[31m✖\u001b[39m \u001b[34mdplyr\u001b[39m::\u001b[32mbetween()\u001b[39m     masks \u001b[34mdata.table\u001b[39m::between()\n",
      "\u001b[31m✖\u001b[39m \u001b[34mdplyr\u001b[39m::\u001b[32mfilter()\u001b[39m      masks \u001b[34mstats\u001b[39m::filter()\n",
      "\u001b[31m✖\u001b[39m \u001b[34mdplyr\u001b[39m::\u001b[32mfirst()\u001b[39m       masks \u001b[34mdata.table\u001b[39m::first()\n",
      "\u001b[31m✖\u001b[39m \u001b[34mlubridate\u001b[39m::\u001b[32mhour()\u001b[39m    masks \u001b[34mdata.table\u001b[39m::hour()\n",
      "\u001b[31m✖\u001b[39m \u001b[34mlubridate\u001b[39m::\u001b[32misoweek()\u001b[39m masks \u001b[34mdata.table\u001b[39m::isoweek()\n",
      "\u001b[31m✖\u001b[39m \u001b[34mdplyr\u001b[39m::\u001b[32mlag()\u001b[39m         masks \u001b[34mstats\u001b[39m::lag()\n",
      "\u001b[31m✖\u001b[39m \u001b[34mdplyr\u001b[39m::\u001b[32mlast()\u001b[39m        masks \u001b[34mdata.table\u001b[39m::last()\n",
      "\u001b[31m✖\u001b[39m \u001b[34mlubridate\u001b[39m::\u001b[32mmday()\u001b[39m    masks \u001b[34mdata.table\u001b[39m::mday()\n",
      "\u001b[31m✖\u001b[39m \u001b[34mlubridate\u001b[39m::\u001b[32mminute()\u001b[39m  masks \u001b[34mdata.table\u001b[39m::minute()\n",
      "\u001b[31m✖\u001b[39m \u001b[34mlubridate\u001b[39m::\u001b[32mmonth()\u001b[39m   masks \u001b[34mdata.table\u001b[39m::month()\n",
      "\u001b[31m✖\u001b[39m \u001b[34mlubridate\u001b[39m::\u001b[32mquarter()\u001b[39m masks \u001b[34mdata.table\u001b[39m::quarter()\n",
      "\u001b[31m✖\u001b[39m \u001b[34mlubridate\u001b[39m::\u001b[32msecond()\u001b[39m  masks \u001b[34mdata.table\u001b[39m::second()\n",
      "\u001b[31m✖\u001b[39m \u001b[34mpurrr\u001b[39m::\u001b[32mtranspose()\u001b[39m   masks \u001b[34mdata.table\u001b[39m::transpose()\n",
      "\u001b[31m✖\u001b[39m \u001b[34mlubridate\u001b[39m::\u001b[32mwday()\u001b[39m    masks \u001b[34mdata.table\u001b[39m::wday()\n",
      "\u001b[31m✖\u001b[39m \u001b[34mlubridate\u001b[39m::\u001b[32mweek()\u001b[39m    masks \u001b[34mdata.table\u001b[39m::week()\n",
      "\u001b[31m✖\u001b[39m \u001b[34mlubridate\u001b[39m::\u001b[32myday()\u001b[39m    masks \u001b[34mdata.table\u001b[39m::yday()\n",
      "\u001b[31m✖\u001b[39m \u001b[34mlubridate\u001b[39m::\u001b[32myear()\u001b[39m    masks \u001b[34mdata.table\u001b[39m::year()\n",
      "\u001b[36mℹ\u001b[39m Use the conflicted package (\u001b[3m\u001b[34m<http://conflicted.r-lib.org/>\u001b[39m\u001b[23m) to force all conflicts to become errors\n",
      "Loading required package: vroom\n",
      "\n",
      "\n",
      "Attaching package: ‘vroom’\n",
      "\n",
      "\n",
      "The following objects are masked from ‘package:readr’:\n",
      "\n",
      "    as.col_spec, col_character, col_date, col_datetime, col_double,\n",
      "    col_factor, col_guess, col_integer, col_logical, col_number,\n",
      "    col_skip, col_time, cols, cols_condense, cols_only, date_names,\n",
      "    date_names_lang, date_names_langs, default_locale, fwf_cols,\n",
      "    fwf_empty, fwf_positions, fwf_widths, locale, output_column,\n",
      "    problems, spec\n",
      "\n",
      "\n",
      "Loading required package: TwoSampleMR\n",
      "\n",
      "TwoSampleMR version 0.5.7 \n",
      "[>] New: Option to use non-European LD reference panels for clumping etc\n",
      "[>] Some studies temporarily quarantined to verify effect allele\n",
      "[>] See news(package='TwoSampleMR') and https://gwas.mrcieu.ac.uk for further details\n",
      "\n",
      "\n",
      "\n",
      "Warning:\n",
      "You are running an old version of the TwoSampleMR package.\n",
      "This version:   0.5.7\n",
      "Latest version: 0.6.4\n",
      "Please consider updating using remotes::install_github('MRCIEU/TwoSampleMR')\n",
      "\n",
      "Loading required package: ieugwasr\n",
      "\n",
      "OpenGWAS updates:\n",
      "\n",
      "  Date: 2024-05-17\n",
      "\n",
      "  [>] OpenGWAS is growing!\n",
      "\n",
      "  [>] Please take 2 minutes to give us feedback -\n",
      "\n",
      "  [>] It will help directly shape our emerging roadmap\n",
      "\n",
      "  [>] https://forms.office.com/e/eSr7EFAfCG\n",
      "\n",
      "\n",
      "Attaching package: ‘ieugwasr’\n",
      "\n",
      "\n",
      "The following object is masked from ‘package:TwoSampleMR’:\n",
      "\n",
      "    ld_matrix\n",
      "\n",
      "\n",
      "Loading required package: MRPRESSO\n",
      "\n"
     ]
    },
    {
     "data": {
      "text/html": [
       "<ol>\n",
       "\t<li>TRUE</li>\n",
       "\t<li>TRUE</li>\n",
       "\t<li>TRUE</li>\n",
       "\t<li>TRUE</li>\n",
       "\t<li>TRUE</li>\n",
       "\t<li>TRUE</li>\n",
       "\t<li>TRUE</li>\n",
       "</ol>\n"
      ],
      "text/latex": [
       "\\begin{enumerate}\n",
       "\\item TRUE\n",
       "\\item TRUE\n",
       "\\item TRUE\n",
       "\\item TRUE\n",
       "\\item TRUE\n",
       "\\item TRUE\n",
       "\\item TRUE\n",
       "\\end{enumerate}\n"
      ],
      "text/markdown": [
       "1. TRUE\n",
       "2. TRUE\n",
       "3. TRUE\n",
       "4. TRUE\n",
       "5. TRUE\n",
       "6. TRUE\n",
       "7. TRUE\n",
       "\n",
       "\n"
      ],
      "text/plain": [
       "[[1]]\n",
       "[1] TRUE\n",
       "\n",
       "[[2]]\n",
       "[1] TRUE\n",
       "\n",
       "[[3]]\n",
       "[1] TRUE\n",
       "\n",
       "[[4]]\n",
       "[1] TRUE\n",
       "\n",
       "[[5]]\n",
       "[1] TRUE\n",
       "\n",
       "[[6]]\n",
       "[1] TRUE\n",
       "\n",
       "[[7]]\n",
       "[1] TRUE\n"
      ]
     },
     "metadata": {},
     "output_type": "display_data"
    }
   ],
   "source": [
    "libraries <- c(\"data.table\", \"tidyverse\", \"vroom\", \"dplyr\", 'TwoSampleMR', 'ieugwasr', \"MRPRESSO\")\n",
    "lapply(libraries, require, character.only = TRUE)"
   ]
  },
  {
   "cell_type": "code",
   "execution_count": 2,
   "id": "3a19842c-68b3-44dd-9ab9-0ff68f67bedc",
   "metadata": {},
   "outputs": [],
   "source": [
    "# some useful functions\n",
    "\"%+%\" = function(...) paste0(...,sep=\"\")\n",
    "`%ni%` <- Negate(`%in%`)"
   ]
  },
  {
   "cell_type": "markdown",
   "id": "411b61b8-1cee-44df-9c95-a048985ff1c6",
   "metadata": {},
   "source": [
    "# Mendelian Randomization (MR) Pipeline\n",
    "\n",
    "MR using `TwoSampleMR` + `MRPRESSO` package is done in these steps:\n",
    "\n",
    "1. Prepare exposure\n",
    "2. Prepare outcome\n",
    "3. Harmonize data\n",
    "4. Check instrument/exposure validity\n",
    "5. Run MR\n",
    "6. Plot\n",
    "7. Identify heterogeneity outliers using MR-PRESSO\n",
    "8. Repeat 5-6 without the outliers"
   ]
  },
  {
   "cell_type": "markdown",
   "id": "8cc7febd-9a52-4a17-b66c-b03cbcf0fff0",
   "metadata": {},
   "source": [
    "# 1. Prepare exposure"
   ]
  },
  {
   "cell_type": "code",
   "execution_count": 3,
   "id": "8350c28b-f96e-4055-8447-509cb090cd01",
   "metadata": {},
   "outputs": [],
   "source": [
    "test_traits <- c(\"PD_clinical\")\n",
    "test_traits_ncase <- c(15056)\n",
    "test_traits_ncontrol <- c(12637)\n",
    "test_traits_prevalence <- c(0.005)\n",
    "exposure_list <- list()"
   ]
  },
  {
   "cell_type": "code",
   "execution_count": null,
   "id": "1c8b2834-c64a-457c-8aaa-6ea323712d3b",
   "metadata": {
    "scrolled": true,
    "tags": []
   },
   "outputs": [],
   "source": [
    "trait <- 'PD_clinical'\n",
    "ncase <- 15056\n",
    "ncontrol <- 12637\n",
    "samplesize <- ncase + ncontrol\n",
    "\n",
    "trait_vroom <- vroom(\"data/formatted_sumstats/\"%+% trait %+%\"_formatted.tsv.gz\", show_col_types = FALSE)\n",
    "\n",
    "trait_vroom <- trait_vroom %>% filter(P<5e-8) %>% as.data.table\n",
    "\n",
    "exposure_temp_formatted <- format_data(\n",
    "    trait_vroom,\n",
    "    type = \"exposure\",\n",
    "    snp_col=\"SNP\",\n",
    "    chr_col=\"CHR\",\n",
    "    pos_col=\"BP\",\n",
    "    eaf_col = \"MAF\",\n",
    "    effect_allele_col=\"A1\",\n",
    "    other_allele_col=\"A2\",\n",
    "    beta_col=\"BETA\",\n",
    "    se_col = \"SE\",\n",
    "    pval_col = \"P\"\n",
    ") %>% as.data.table\n",
    "\n",
    "exposures <- exposure_temp_formatted[, c(\n",
    "    \"exposure\",\n",
    "    \"ncase.exposure\",\n",
    "    \"ncontrol.exposure\",\n",
    "    \"samplesize.exposure\"\n",
    ") := list(\n",
    "    trait,\n",
    "    ncase,\n",
    "    ncontrol,\n",
    "    samplesize\n",
    ")]"
   ]
  },
  {
   "cell_type": "markdown",
   "id": "6e6f8cc5-491f-494f-876c-703221241a83",
   "metadata": {},
   "source": [
    "# 2. Prepare outcome data\n",
    "\n",
    "Now we can just read the data as a data frame using `read_csv` and use the `format_data` function to convert to outcome data. But this takes forever and harmonization also takes forever.\n",
    "\n",
    "We will subset the variants ahead of time so that only variants found in both the exposures and the outcome will be in the outcome data."
   ]
  },
  {
   "cell_type": "code",
   "execution_count": null,
   "id": "05b91650-7d52-4a40-ab90-652bd7ad17da",
   "metadata": {},
   "outputs": [],
   "source": [
    "trait <- \"ability_to_smell\"\n",
    "samplesize <- 1427780\n",
    "\n",
    "trait_vroom <- vroom(\"data/formatted_sumstats/\"%+% trait %+%\"_formatted.tsv.gz\", show_col_types = FALSE)\n",
    "trait_vroom <- trait_vroom %>% filter(SNP %in% exposures$SNP)\n",
    "outcome_formatted <- format_data(\n",
    "    trait_vroom,\n",
    "    type = \"outcome\",\n",
    "    snp_col=\"SNP\",\n",
    "    chr_col=\"CHR\",\n",
    "    pos_col=\"BP\",\n",
    "    eaf_col = \"MAF\",\n",
    "    effect_allele_col=\"A1\",\n",
    "    other_allele_col=\"A2\",\n",
    "    beta_col=\"BETA\",\n",
    "    se_col = \"SE\",\n",
    "    pval_col = \"P\"\n",
    ") %>% as.data.table\n",
    "\n",
    "outcome_formatted <- outcome_formatted[, c(\n",
    "    \"outcome\",\n",
    "    \"samplesize.outcome\"\n",
    ") := list(\n",
    "    trait,\n",
    "    samplesize\n",
    ")]"
   ]
  },
  {
   "cell_type": "markdown",
   "id": "36fdaff0-899a-46cf-b875-0baee8ba1207",
   "metadata": {},
   "source": [
    "# 3. Harmonize data\n",
    "\n",
    "Note that when you harmonize data, `TwoSampleMR` tries to be a little conservative and drop SNPs that are potential palindromics since it is unsure if the variants are both in + strands. For this I am leaving this behavior as is, but if you are 100% sure all data is in forward strand, you can use `action = 1` argument to skip this process."
   ]
  },
  {
   "cell_type": "code",
   "execution_count": null,
   "id": "734372b8-36cb-4aa2-8775-4705572f0f00",
   "metadata": {
    "scrolled": true,
    "tags": []
   },
   "outputs": [],
   "source": [
    "PD_ability_to_smell_harmonized <- harmonise_data(\n",
    "    exposures,\n",
    "    outcome_formatted\n",
    ") %>% as.data.table"
   ]
  },
  {
   "cell_type": "markdown",
   "id": "8f431aa1-8452-4c38-b4fd-81ee6bcdd65c",
   "metadata": {},
   "source": [
    "Now we will clump the data. Following is a function to clump data using local 1000 Genome data, rather than using the IEU OpenGWAS API, which can stall with large number of variants. This is absolutely critical the for direction from ability to smell -> PD, as the olfaction is a very polygenic trait with hundreds of independent variants."
   ]
  },
  {
   "cell_type": "code",
   "execution_count": null,
   "id": "b0a6ef1a-6680-4f0e-a8a3-f2ceb430b2fb",
   "metadata": {
    "tags": []
   },
   "outputs": [],
   "source": [
    "clump_per_combination <- function(DT, local=T, plink='refdata/plinkv1_9/plink', bfile='refdata/1kg_plink/EUR', clump_kb = 10000, clump_r2 = 0.001, mr_keep=T) {\n",
    "    exposures <- DT$exposure %>% unique\n",
    "    if ('outcome' %in% colnames(DT)) {\n",
    "        outcomes <- DT$outcome %>% unique\n",
    "        combinations <- expand.grid(exposures, outcomes) %>% as.data.table\n",
    "    } else {\n",
    "        # no outcomes, only exposures\n",
    "        combinations <- data.table(Var1 = exposures, Var2 = NA)\n",
    "    }\n",
    "    \n",
    "\n",
    "    return_list <- list()\n",
    "    for (i in 1:nrow(combinations)) {\n",
    "        exposure_interest <- combinations[i]$Var1\n",
    "        outcome_interest <- combinations[i]$Var2\n",
    "        if (is.na(outcome_interest)) {\n",
    "            # only exposures\n",
    "            harmo <- DT[exposure == exposure_interest]\n",
    "        } else {\n",
    "            harmo <- DT[exposure == exposure_interest & outcome == outcome_interest]\n",
    "        }\n",
    "        if (mr_keep & ('mr_keep' %in% colnames(harmo))) {\n",
    "            harmo <- harmo[mr_keep == T]\n",
    "        }\n",
    "        if (local==T) {\n",
    "            clump_harmo <- ieugwasr::ld_clump(\n",
    "                harmo %>% rename('rsid'='SNP','pval'='pval.exposure'),\n",
    "                plink_bin = plink,\n",
    "                clump_kb = clump_kb,\n",
    "                clump_r2 = clump_r2,\n",
    "                bfile = bfile\n",
    "            )\n",
    "            clump_harmo <- clump_harmo %>% rename('SNP'='rsid','pval.exposure'='pval')\n",
    "        } else {\n",
    "            clump_harmo <- clump_data(harmo, clump_kb = clump_kb, clump_r2 = clump_r2)\n",
    "        }\n",
    "        return_list[[i]] <- clump_harmo\n",
    "    }\n",
    "    return(rbindlist(return_list))\n",
    "}"
   ]
  },
  {
   "cell_type": "code",
   "execution_count": null,
   "id": "2aa7a65a-a70b-4055-ba53-e2b3f29e6d47",
   "metadata": {
    "tags": []
   },
   "outputs": [],
   "source": [
    "backup <- PD_ability_to_smell_harmonized %>% copy()\n",
    "PD_ability_to_smell_harmonized <- clump_per_combination(PD_ability_to_smell_harmonized)"
   ]
  },
  {
   "cell_type": "markdown",
   "id": "32ad6397-099f-4432-9d9c-492cc39ded84",
   "metadata": {},
   "source": [
    "Now note that just like how you can combine the different exposures, you can do this with multiple outcomes and concatenate/rbind the harmonized data frames together and run MR all together. The MR function runs MR on each exposure and outcomes separately."
   ]
  },
  {
   "cell_type": "markdown",
   "id": "15465028-7f34-4116-9f61-74bdc68e2312",
   "metadata": {},
   "source": [
    "# 4. Check F-statistic\n",
    "\n",
    "When you run MR, you need to make sure that the instrumental variants (IVs) we are using are a good representative of the exposure. This can be determined by calculating the F-statistic (F_STAT) of each IVs. In mendelian randomization IVs are the SNPs we are using.\n",
    "\n",
    "What we want to see are IVs with F_STAT >= 10. From here you can be stringent and remove any IVs with F_STAT < 10 or just check that the mean F_STAT is 10 or greater."
   ]
  },
  {
   "cell_type": "code",
   "execution_count": null,
   "id": "fd3b92a1-a86b-46ed-82aa-2cbca46eef7b",
   "metadata": {},
   "outputs": [],
   "source": [
    "PD_ability_to_smell_harmonized <- PD_ability_to_smell_harmonized %>% as.data.table"
   ]
  },
  {
   "cell_type": "code",
   "execution_count": null,
   "id": "043ba524-3872-4603-840c-d951cbc27ba2",
   "metadata": {
    "scrolled": true,
    "tags": []
   },
   "outputs": [],
   "source": [
    "PD_ability_to_smell_harmonized[, F_STAT := qf(\n",
    "    pval.exposure,\n",
    "    df1=1,\n",
    "    df2=samplesize.exposure,\n",
    "    lower.tail=F\n",
    ")]\n",
    "PD_ability_to_smell_harmonized[!is.na(F_STAT)]$F_STAT %>% min"
   ]
  },
  {
   "cell_type": "code",
   "execution_count": null,
   "id": "d6f38180-f929-4e31-916b-5ea3af795dac",
   "metadata": {},
   "outputs": [],
   "source": [
    "# backup just in case we need to rerun this\n",
    "fwrite(PD_ability_to_smell_harmonized, 'data/PD_to_smell_harmonisedIV_backup.csv')\n",
    "# PD_ability_to_smell_harmonized <- fread(\"PD_to_smell_harmonisedIV_backup.csv\")"
   ]
  },
  {
   "cell_type": "markdown",
   "id": "b90b6328-6e63-4687-9ca1-49583224b3fe",
   "metadata": {},
   "source": [
    "# 5. Run MR\n",
    "\n",
    "Finally the fun part! We will run MR using 3 meta-analysis methods:\n",
    "\n",
    "1. Inverse-variance weighted (IVW) - the classic random-effect meta-analysis. The most powerful of the bunch but is vulnerable to pleiotropic effects.\n",
    "2. MR Egger - designed to detect and compensate for pleiotropic variants. It unconstrains the intercept which can dramatically change the coefficient. Pay close attention to the effect direction of MR Egger and IVW results. If they are in opposite directions, it means there is a strong evidence for pleiotropy.\n",
    "3. Weighted Median (WM) - designed to compensate for potential invalid instruments. Only works when half or more instruments are valid. It is a good hedge in case some of the variants are less relevant than others.\n",
    "\n",
    "We will also run Cochran's Q heterogeneity test and Egger test for pleiotropy. We will also calculate I^2 to quantify the heterogeneity."
   ]
  },
  {
   "cell_type": "code",
   "execution_count": null,
   "id": "25ef250d-34f3-429c-8be4-c61e860bc65f",
   "metadata": {},
   "outputs": [],
   "source": [
    "PD_ability_to_smell_harmonized <- fread(\"data/PD_to_smell_harmonisedIV_backup.csv\")"
   ]
  },
  {
   "cell_type": "code",
   "execution_count": null,
   "id": "ba968522-b5ff-4c61-ab69-0e220c63a0b6",
   "metadata": {
    "tags": []
   },
   "outputs": [],
   "source": [
    "PD_ability_to_smell_harmonized <- PD_ability_to_smell_harmonized[exposure == 'PD_clinical']"
   ]
  },
  {
   "cell_type": "markdown",
   "id": "39727298-972a-49ac-a023-90870b2d1a45",
   "metadata": {},
   "source": [
    "Main MR"
   ]
  },
  {
   "cell_type": "code",
   "execution_count": null,
   "id": "7d4e2831-84ff-40a5-94e1-5d6e0774f2aa",
   "metadata": {
    "tags": []
   },
   "outputs": [],
   "source": [
    "resMR <- mr(\n",
    "    PD_ability_to_smell_harmonized,\n",
    "    method_list = c(\"mr_ivw\",\"mr_egger_regression\",\"mr_weighted_median\")\n",
    ") %>% as.data.table\n",
    "resMR[,c(\"exposure\",\"outcome\",\"method\",\"nsnp\",\"b\",\"se\",\"pval\",\"id.exposure\",\"id.outcome\")][order(exposure,outcome,method)]"
   ]
  },
  {
   "cell_type": "markdown",
   "id": "b3a46ac2-f0dd-486e-a965-5b68549626d5",
   "metadata": {},
   "source": [
    "Heterogeneity analysis"
   ]
  },
  {
   "cell_type": "code",
   "execution_count": null,
   "id": "2de5840c-6995-4ec1-ad1c-6aaedcd7664c",
   "metadata": {},
   "outputs": [],
   "source": [
    "hetMR <- mr_heterogeneity(\n",
    "    PD_ability_to_smell_harmonized,\n",
    "    method_list = c(\"mr_ivw\",\"mr_egger_regression\")\n",
    ") %>% as.data.table\n",
    "hetMR[, Isq := round((Q-Q_df)/Q*100, digits = 3)]\n",
    "hetMR[,c(\"exposure\",\"outcome\",\"method\",\"Q\",\"Q_df\",\"Q_pval\",\"Isq\",\"id.exposure\",\"id.outcome\")][order(exposure,outcome,method)]"
   ]
  },
  {
   "cell_type": "markdown",
   "id": "2df35773-fa2d-4e0c-8f00-d52a27e55e06",
   "metadata": {},
   "source": [
    "Egger intercept pleiotropy analysis"
   ]
  },
  {
   "cell_type": "code",
   "execution_count": null,
   "id": "d2de52cd-17ad-4392-b047-f7ed7d14fe64",
   "metadata": {},
   "outputs": [],
   "source": [
    "pleMR <- mr_pleiotropy_test(PD_ability_to_smell_harmonized) %>% as.data.table\n",
    "pleMR[,c(\"exposure\",\"outcome\",\"egger_intercept\",\"se\",\"pval\",\"id.exposure\",\"id.outcome\")][order(exposure,outcome)]"
   ]
  },
  {
   "cell_type": "markdown",
   "id": "fc253a87-825c-45c0-9486-9cb71e0e0031",
   "metadata": {},
   "source": [
    "Single variant (Wald-ratio) analysis"
   ]
  },
  {
   "cell_type": "code",
   "execution_count": null,
   "id": "e319036f-c108-4deb-8371-1efb2443e463",
   "metadata": {},
   "outputs": [],
   "source": [
    "singleMR <- mr_singlesnp(PD_ability_to_smell_harmonized) %>% as.data.table\n",
    "singleMR"
   ]
  },
  {
   "cell_type": "markdown",
   "id": "710182b3-3bdb-4a9c-a816-70155c247107",
   "metadata": {},
   "source": [
    "Leave-one-out"
   ]
  },
  {
   "cell_type": "code",
   "execution_count": null,
   "id": "bc4ffac2-1fda-4c08-8482-907984d5311e",
   "metadata": {},
   "outputs": [],
   "source": [
    "looMR <- mr_leaveoneout(PD_ability_to_smell_harmonized) %>% as.data.table\n",
    "looMR"
   ]
  },
  {
   "cell_type": "code",
   "execution_count": null,
   "id": "a1ee75c2-a24f-4e47-92d0-8d22fdbd8677",
   "metadata": {},
   "outputs": [],
   "source": [
    "fwrite(\n",
    "    resMR,\n",
    "    \"results/PD_smell.MR.csv\"\n",
    ")\n",
    "fwrite(\n",
    "    hetMR,\n",
    "    \"results/PD_smell.het.csv\"\n",
    ")\n",
    "fwrite(\n",
    "    pleMR,\n",
    "    \"results/PD_smell.ple.csv\"\n",
    ")\n",
    "fwrite(\n",
    "    looMR,\n",
    "    \"results/PD_smell.loo.csv\"\n",
    ")\n",
    "fwrite(\n",
    "    singleMR,\n",
    "    \"results/PD_smell.single.csv\"\n",
    ")"
   ]
  },
  {
   "cell_type": "markdown",
   "id": "fbf25fd0-0f73-41ca-91d9-37e11120db84",
   "metadata": {},
   "source": [
    "# 6. Plot\n",
    "\n",
    "Couple of good ways to graph our results.\n",
    "\n",
    "## 6a. Scatterplot\n",
    "\n",
    "This is especially useful for comparing the MR Egger results and IVW results. It can also be used to look at heterogeneous results. High heterogeneity doesn't necessarily mean pleiotropy, as heterogeneous results that are evenly distributed between the regression would also be shown as significant in the Cochran's Q results."
   ]
  },
  {
   "cell_type": "code",
   "execution_count": null,
   "id": "2ea3253a-d3ad-407f-aab3-9d23b0392a7a",
   "metadata": {},
   "outputs": [],
   "source": [
    "resMR_forPlot <- resMR %>% copy\n",
    "resMR_forPlot[, exposure := \"Parkinson's Disease\"]\n",
    "resMR_forPlot[, outcome := 'self-reported \"ability to smell\"']\n",
    "\n",
    "PD_ability_to_smell_harmonized_forPlot <- PD_ability_to_smell_harmonized %>% copy\n",
    "PD_ability_to_smell_harmonized_forPlot[, exposure := \"Parkinson's Disease\"]\n",
    "PD_ability_to_smell_harmonized_forPlot[, outcome := 'Self-reported \"ability to smell\"']\n",
    "\n",
    "scatter_plots <- mr_scatter_plot(\n",
    "    resMR_forPlot,\n",
    "    PD_ability_to_smell_harmonized_forPlot\n",
    ")"
   ]
  },
  {
   "cell_type": "code",
   "execution_count": 61,
   "id": "e77e0892-021c-4e2d-9e53-5aab6a15489a",
   "metadata": {},
   "outputs": [
    {
     "data": {
      "text/plain": [
       "$ES83X3.R8nAAo\n"
      ]
     },
     "metadata": {},
     "output_type": "display_data"
    },
    {
     "data": {
      "image/png": "[encoded data removed]",
      "text/plain": [
       "plot without title"
      ]
     },
     "metadata": {
      "image/png": {
       "height": 420,
       "width": 420
      }
     },
     "output_type": "display_data"
    }
   ],
   "source": [
    "scatter_plots[1]"
   ]
  },
  {
   "cell_type": "code",
   "execution_count": 62,
   "id": "916628c2-ec89-4a26-928e-ec41f8d236ef",
   "metadata": {},
   "outputs": [
    {
     "name": "stderr",
     "output_type": "stream",
     "text": [
      "Saving 6.67 x 6.67 in image\n",
      "\n"
     ]
    }
   ],
   "source": [
    "ggsave(\n",
    "    \"results/plots/PDonSmell.pdf\",\n",
    "    plot = scatter_plots[1]$ES83X3.R8nAAo\n",
    ")\n"
   ]
  },
  {
   "cell_type": "markdown",
   "id": "b4c14cec-c02f-4731-972c-072d82eeec27",
   "metadata": {},
   "source": [
    "## 6b. Forest plot\n",
    "\n",
    "This plot is more useful to see individual SNP effects vs the meta-analysis results. It can help identify outliers.\n",
    "\n",
    "When there are lots of IVs, it can be overwhelming. Let's do factor 2 since it has the leave number of IVs."
   ]
  },
  {
   "cell_type": "code",
   "execution_count": 150,
   "id": "f9494d0a-aec8-4d7a-a25e-17b137771966",
   "metadata": {},
   "outputs": [
    {
     "name": "stderr",
     "output_type": "stream",
     "text": [
      "Warning message:\n",
      "\"Removed 1 rows containing missing values (geom_errorbarh).\"\n",
      "Warning message:\n",
      "\"Removed 1 rows containing missing values (geom_point).\"\n"
     ]
    },
    {
     "data": {
      "image/png": "[encoded data removed]",
      "text/plain": [
       "plot without title"
      ]
     },
     "metadata": {
      "image/png": {
       "height": 420,
       "width": 420
      }
     },
     "output_type": "display_data"
    }
   ],
   "source": [
    "singleMR_forPlot <- mr_singlesnp(PD_ability_to_smell_harmonized_forPlot)\n",
    "PD_ability_to_smell_forestplot <- mr_forest_plot(\n",
    "    singleMR_forPlot,\n",
    ")\n",
    "PD_ability_to_smell_forestplot[[1]]"
   ]
  },
  {
   "cell_type": "code",
   "execution_count": null,
   "id": "ba52a92a-a9b7-46eb-bbdc-46bde594f73f",
   "metadata": {},
   "outputs": [],
   "source": [
    "ggsave(\n",
    "    \"results/plots/PDonSmell.ForestPlot.pdf\",\n",
    "    plot = PD_ability_to_smell_forestplot[[1]]\n",
    ")"
   ]
  },
  {
   "cell_type": "markdown",
   "id": "57170c82-7305-44e7-ae91-c34dec2466a9",
   "metadata": {},
   "source": [
    "## 6c. Leave one out plot"
   ]
  },
  {
   "cell_type": "code",
   "execution_count": null,
   "id": "98b67f8b-acb4-48e2-87a3-05919034dc60",
   "metadata": {},
   "outputs": [],
   "source": [
    "looMR_forPlot <- mr_leaveoneout(PD_ability_to_smell_harmonized_forPlot) %>% as.data.table\n",
    "LOO_plot <- mr_leaveoneout_plot(looMR_forPlot)\n",
    "ggsave(\n",
    "    \"results/plots/PDonSmell.LOO_ForestPlot.pdf\",\n",
    "    plot = LOO_plot[[1]]\n",
    ")"
   ]
  },
  {
   "cell_type": "code",
   "execution_count": 33,
   "id": "a854e91e-4ac0-4ef3-8941-5e85845b18fb",
   "metadata": {},
   "outputs": [
    {
     "name": "stderr",
     "output_type": "stream",
     "text": [
      "Warning message:\n",
      "“\u001b[1m\u001b[22mRemoved 1 row containing missing values or values outside the scale range\n",
      "(`geom_errorbarh()`).”\n",
      "Warning message:\n",
      "“\u001b[1m\u001b[22mRemoved 1 row containing missing values or values outside the scale range\n",
      "(`geom_point()`).”\n"
     ]
    },
    {
     "data": {
      "image/png": "[encoded data removed]",
      "text/plain": [
       "plot without title"
      ]
     },
     "metadata": {
      "image/png": {
       "height": 420,
       "width": 420
      }
     },
     "output_type": "display_data"
    }
   ],
   "source": [
    "LOO_plot[[1]]"
   ]
  },
  {
   "cell_type": "markdown",
   "id": "e5dd684c-18a7-429e-a9cc-c0b40762558e",
   "metadata": {},
   "source": [
    "# 7. MR-PRESSO\n",
    "\n",
    "When an exposure has high heterogeneity between its IVs, we can use MR-PRESSO to identify potential outliers that may be skewing our results. Let's run this for Factor 4.\n",
    "\n",
    "This test can take a long time depending on the number of IVs. Small ones like Factor 3 will probably finish by the time you get your coffee. Factor 4 will likely take hour(s). This is because MR-PRESSO doesn't support multi-threading at the moment. Feel free to let it run and come back to it later.\n",
    "\n",
    "Make sure you convert any `data.table` object to `data.frame` since MR-PRESSO is finicky and will not accept `data.table` objects."
   ]
  },
  {
   "cell_type": "markdown",
   "id": "d126b99e-f262-4189-86ca-5df1636e786a",
   "metadata": {},
   "source": [
    "You need to set the `NbDistribution` high enough so that the tests do not fail. Higher the number longer the test takes, but you need higher number for higher number of IVs. An easy way to do this is:"
   ]
  },
  {
   "cell_type": "code",
   "execution_count": null,
   "id": "48faf219-2334-495b-821f-baa773e91ee1",
   "metadata": {
    "tags": []
   },
   "outputs": [],
   "source": [
    "trait <- 'PD_clinical'\n",
    "data <- PD_ability_to_smell_harmonized[exposure == trait] %>% as.data.frame\n",
    "NbDistNum <- nrow(data)/0.05 + 100\n",
    "\n",
    "PRESSO_RESULT <- mr_presso(\n",
    "    BetaOutcome = \"beta.outcome\",\n",
    "    BetaExposure = \"beta.exposure\",\n",
    "    SdOutcome = \"se.outcome\",\n",
    "    SdExposure = \"se.exposure\",\n",
    "    OUTLIERtest = TRUE,\n",
    "    DISTORTIONtest = TRUE,\n",
    "    data = data,\n",
    "    NbDistribution = NbDistNum,\n",
    "    SignifThreshold = 0.05\n",
    ")\n",
    "saveRDS(PRESSO_RESULT, \"results/PD_smell_MRPRESSO.rds\")"
   ]
  },
  {
   "cell_type": "markdown",
   "id": "4adfc675-6be0-4d7c-89e3-95c9dc917661",
   "metadata": {},
   "source": [
    "Now go do something else. Come back later."
   ]
  },
  {
   "cell_type": "markdown",
   "id": "0e82e438-ff3e-4a85-a306-8d3574df7bfd",
   "metadata": {},
   "source": [
    "# 8. Repeat MR without outliers"
   ]
  },
  {
   "cell_type": "code",
   "execution_count": null,
   "id": "ccdba308-c669-484c-9c1f-a74b24c2e7ec",
   "metadata": {
    "tags": []
   },
   "outputs": [],
   "source": [
    "PRESSO_RESULT <- readRDS(\"results/PD_smell_MRPRESSO.rds\")\n",
    "# check to make sure the actual MR-PRESSO found outliers\n",
    "PRESSO_RESULT"
   ]
  },
  {
   "cell_type": "code",
   "execution_count": null,
   "id": "159d68cd-39fd-4f6a-80a9-843abb51a4c1",
   "metadata": {},
   "outputs": [],
   "source": [
    "outliers <- PRESSO_RESULT$`MR-PRESSO results`$`Distortion Test`$`Outliers Indices`\n",
    "postPRESSO_harmonized <- PD_ability_to_smell_harmonized[!outliers]"
   ]
  },
  {
   "cell_type": "markdown",
   "id": "f4fb8a43-0cdc-4c80-8f0f-c872a7811397",
   "metadata": {},
   "source": [
    "## What are the \"outliers\"?"
   ]
  },
  {
   "cell_type": "code",
   "execution_count": null,
   "id": "1a8874dc-90da-4d7f-b7ad-3536595c6cd0",
   "metadata": {},
   "outputs": [],
   "source": [
    "outliers <- PD_ability_to_smell_harmonized[\n",
    "    SNP %ni% postPRESSO_harmonized$SNP\n",
    "][,c(\"SNP\",\"chr.exposure\", \"pos.exposure\", \"beta.exposure\", \"se.exposure\", \"pval.exposure\", \"beta.outcome\", \"se.outcome\", \"pval.outcome\")][order(chr.exposure,pos.exposure)]"
   ]
  },
  {
   "cell_type": "code",
   "execution_count": null,
   "id": "72df8abf-cceb-4fd0-9754-d1be98de8d24",
   "metadata": {},
   "outputs": [],
   "source": [
    "nonOutliers <- postPRESSO_harmonized[,c(\"SNP\",\"chr.exposure\", \"pos.exposure\", \"beta.exposure\", \"se.exposure\", \"pval.exposure\", \"beta.outcome\", \"se.outcome\", \"pval.outcome\")][order(chr.exposure,pos.exposure)]"
   ]
  },
  {
   "cell_type": "code",
   "execution_count": null,
   "id": "00c686a3-67ba-46d3-9bd8-69ef916f594f",
   "metadata": {},
   "outputs": [],
   "source": [
    "outliers <- outliers[, `Removed by MR-PRESSO Distortion Test` := T]\n",
    "nonOutliers <- nonOutliers[, `Removed by MR-PRESSO Distortion Test` := F]"
   ]
  },
  {
   "cell_type": "code",
   "execution_count": 148,
   "id": "6cffe8c3-ad1d-41d2-bfcb-6d9c01843c05",
   "metadata": {},
   "outputs": [
    {
     "data": {
      "text/html": [
       "<table class=\"dataframe\">\n",
       "<caption>A data.table: 13 × 10</caption>\n",
       "<thead>\n",
       "\t<tr><th scope=col>SNP</th><th scope=col>chr.exposure</th><th scope=col>pos.exposure</th><th scope=col>beta.exposure</th><th scope=col>se.exposure</th><th scope=col>pval.exposure</th><th scope=col>beta.outcome</th><th scope=col>se.outcome</th><th scope=col>pval.outcome</th><th scope=col>Removed by MR-PRESSO Distortion Test</th></tr>\n",
       "\t<tr><th scope=col>&lt;chr&gt;</th><th scope=col>&lt;int&gt;</th><th scope=col>&lt;int&gt;</th><th scope=col>&lt;dbl&gt;</th><th scope=col>&lt;dbl&gt;</th><th scope=col>&lt;dbl&gt;</th><th scope=col>&lt;dbl&gt;</th><th scope=col>&lt;dbl&gt;</th><th scope=col>&lt;dbl&gt;</th><th scope=col>&lt;lgl&gt;</th></tr>\n",
       "</thead>\n",
       "<tbody>\n",
       "\t<tr><td>rs2153904 </td><td> 1</td><td>205642790</td><td> 0.1570</td><td>0.0262</td><td>1.989e-09</td><td> 0.002441910</td><td>0.00147316</td><td>9.73962e-02</td><td> TRUE</td></tr>\n",
       "\t<tr><td>rs34311866</td><td> 4</td><td>   951947</td><td> 0.2189</td><td>0.0265</td><td>1.538e-16</td><td>-0.000886335</td><td>0.00140517</td><td>5.28192e-01</td><td> TRUE</td></tr>\n",
       "\t<tr><td>rs356182  </td><td> 4</td><td> 90626111</td><td> 0.2615</td><td>0.0215</td><td>4.933e-34</td><td>-0.000151649</td><td>0.00115533</td><td>8.95569e-01</td><td> TRUE</td></tr>\n",
       "\t<tr><td>rs199452  </td><td>17</td><td> 44801340</td><td>-0.1792</td><td>0.0261</td><td>6.460e-12</td><td> 0.019787700</td><td>0.00128609</td><td>2.05377e-53</td><td> TRUE</td></tr>\n",
       "\t<tr><td>rs35749011</td><td> 1</td><td>155135036</td><td> 0.6977</td><td>0.0806</td><td>4.713e-18</td><td>-0.019635100</td><td>0.00483205</td><td>4.83400e-05</td><td>FALSE</td></tr>\n",
       "\t<tr><td>rs4613239 </td><td> 2</td><td>169119609</td><td> 0.1808</td><td>0.0276</td><td>5.964e-11</td><td>-0.005849510</td><td>0.00165651</td><td>4.13648e-04</td><td>FALSE</td></tr>\n",
       "\t<tr><td>rs12637471</td><td> 3</td><td>182762437</td><td>-0.1659</td><td>0.0244</td><td>9.784e-12</td><td> 0.000476829</td><td>0.00137900</td><td>7.29509e-01</td><td>FALSE</td></tr>\n",
       "\t<tr><td>rs4698412 </td><td> 4</td><td> 15737348</td><td>-0.1311</td><td>0.0187</td><td>2.209e-12</td><td> 0.003706840</td><td>0.00109754</td><td>7.31707e-04</td><td>FALSE</td></tr>\n",
       "\t<tr><td>rs75646569</td><td> 5</td><td> 60345424</td><td> 0.1840</td><td>0.0295</td><td>4.386e-10</td><td>-0.002849300</td><td>0.00180901</td><td>1.15241e-01</td><td>FALSE</td></tr>\n",
       "\t<tr><td>rs2263418 </td><td>12</td><td> 40582993</td><td> 0.1670</td><td>0.0294</td><td>1.427e-08</td><td>-0.003558850</td><td>0.00178366</td><td>4.60140e-02</td><td>FALSE</td></tr>\n",
       "\t<tr><td>rs10847864</td><td>12</td><td>123326598</td><td> 0.1317</td><td>0.0199</td><td>3.775e-11</td><td>-0.002399190</td><td>0.00117574</td><td>4.12922e-02</td><td>FALSE</td></tr>\n",
       "\t<tr><td>rs4889603 </td><td>16</td><td> 30982225</td><td> 0.1152</td><td>0.0208</td><td>2.895e-08</td><td>-0.004315430</td><td>0.00111605</td><td>1.10312e-04</td><td>FALSE</td></tr>\n",
       "\t<tr><td>rs4588066 </td><td>18</td><td> 40672964</td><td> 0.1148</td><td>0.0198</td><td>6.863e-09</td><td>-0.002793050</td><td>0.00117639</td><td>1.75841e-02</td><td>FALSE</td></tr>\n",
       "</tbody>\n",
       "</table>\n"
      ],
      "text/latex": [
       "A data.table: 13 × 10\n",
       "\\begin{tabular}{llllllllll}\n",
       " SNP & chr.exposure & pos.exposure & beta.exposure & se.exposure & pval.exposure & beta.outcome & se.outcome & pval.outcome & Removed by MR-PRESSO Distortion Test\\\\\n",
       " <chr> & <int> & <int> & <dbl> & <dbl> & <dbl> & <dbl> & <dbl> & <dbl> & <lgl>\\\\\n",
       "\\hline\n",
       "\t rs2153904  &  1 & 205642790 &  0.1570 & 0.0262 & 1.989e-09 &  0.002441910 & 0.00147316 & 9.73962e-02 &  TRUE\\\\\n",
       "\t rs34311866 &  4 &    951947 &  0.2189 & 0.0265 & 1.538e-16 & -0.000886335 & 0.00140517 & 5.28192e-01 &  TRUE\\\\\n",
       "\t rs356182   &  4 &  90626111 &  0.2615 & 0.0215 & 4.933e-34 & -0.000151649 & 0.00115533 & 8.95569e-01 &  TRUE\\\\\n",
       "\t rs199452   & 17 &  44801340 & -0.1792 & 0.0261 & 6.460e-12 &  0.019787700 & 0.00128609 & 2.05377e-53 &  TRUE\\\\\n",
       "\t rs35749011 &  1 & 155135036 &  0.6977 & 0.0806 & 4.713e-18 & -0.019635100 & 0.00483205 & 4.83400e-05 & FALSE\\\\\n",
       "\t rs4613239  &  2 & 169119609 &  0.1808 & 0.0276 & 5.964e-11 & -0.005849510 & 0.00165651 & 4.13648e-04 & FALSE\\\\\n",
       "\t rs12637471 &  3 & 182762437 & -0.1659 & 0.0244 & 9.784e-12 &  0.000476829 & 0.00137900 & 7.29509e-01 & FALSE\\\\\n",
       "\t rs4698412  &  4 &  15737348 & -0.1311 & 0.0187 & 2.209e-12 &  0.003706840 & 0.00109754 & 7.31707e-04 & FALSE\\\\\n",
       "\t rs75646569 &  5 &  60345424 &  0.1840 & 0.0295 & 4.386e-10 & -0.002849300 & 0.00180901 & 1.15241e-01 & FALSE\\\\\n",
       "\t rs2263418  & 12 &  40582993 &  0.1670 & 0.0294 & 1.427e-08 & -0.003558850 & 0.00178366 & 4.60140e-02 & FALSE\\\\\n",
       "\t rs10847864 & 12 & 123326598 &  0.1317 & 0.0199 & 3.775e-11 & -0.002399190 & 0.00117574 & 4.12922e-02 & FALSE\\\\\n",
       "\t rs4889603  & 16 &  30982225 &  0.1152 & 0.0208 & 2.895e-08 & -0.004315430 & 0.00111605 & 1.10312e-04 & FALSE\\\\\n",
       "\t rs4588066  & 18 &  40672964 &  0.1148 & 0.0198 & 6.863e-09 & -0.002793050 & 0.00117639 & 1.75841e-02 & FALSE\\\\\n",
       "\\end{tabular}\n"
      ],
      "text/markdown": [
       "\n",
       "A data.table: 13 × 10\n",
       "\n",
       "| SNP &lt;chr&gt; | chr.exposure &lt;int&gt; | pos.exposure &lt;int&gt; | beta.exposure &lt;dbl&gt; | se.exposure &lt;dbl&gt; | pval.exposure &lt;dbl&gt; | beta.outcome &lt;dbl&gt; | se.outcome &lt;dbl&gt; | pval.outcome &lt;dbl&gt; | Removed by MR-PRESSO Distortion Test &lt;lgl&gt; |\n",
       "|---|---|---|---|---|---|---|---|---|---|\n",
       "| rs2153904  |  1 | 205642790 |  0.1570 | 0.0262 | 1.989e-09 |  0.002441910 | 0.00147316 | 9.73962e-02 |  TRUE |\n",
       "| rs34311866 |  4 |    951947 |  0.2189 | 0.0265 | 1.538e-16 | -0.000886335 | 0.00140517 | 5.28192e-01 |  TRUE |\n",
       "| rs356182   |  4 |  90626111 |  0.2615 | 0.0215 | 4.933e-34 | -0.000151649 | 0.00115533 | 8.95569e-01 |  TRUE |\n",
       "| rs199452   | 17 |  44801340 | -0.1792 | 0.0261 | 6.460e-12 |  0.019787700 | 0.00128609 | 2.05377e-53 |  TRUE |\n",
       "| rs35749011 |  1 | 155135036 |  0.6977 | 0.0806 | 4.713e-18 | -0.019635100 | 0.00483205 | 4.83400e-05 | FALSE |\n",
       "| rs4613239  |  2 | 169119609 |  0.1808 | 0.0276 | 5.964e-11 | -0.005849510 | 0.00165651 | 4.13648e-04 | FALSE |\n",
       "| rs12637471 |  3 | 182762437 | -0.1659 | 0.0244 | 9.784e-12 |  0.000476829 | 0.00137900 | 7.29509e-01 | FALSE |\n",
       "| rs4698412  |  4 |  15737348 | -0.1311 | 0.0187 | 2.209e-12 |  0.003706840 | 0.00109754 | 7.31707e-04 | FALSE |\n",
       "| rs75646569 |  5 |  60345424 |  0.1840 | 0.0295 | 4.386e-10 | -0.002849300 | 0.00180901 | 1.15241e-01 | FALSE |\n",
       "| rs2263418  | 12 |  40582993 |  0.1670 | 0.0294 | 1.427e-08 | -0.003558850 | 0.00178366 | 4.60140e-02 | FALSE |\n",
       "| rs10847864 | 12 | 123326598 |  0.1317 | 0.0199 | 3.775e-11 | -0.002399190 | 0.00117574 | 4.12922e-02 | FALSE |\n",
       "| rs4889603  | 16 |  30982225 |  0.1152 | 0.0208 | 2.895e-08 | -0.004315430 | 0.00111605 | 1.10312e-04 | FALSE |\n",
       "| rs4588066  | 18 |  40672964 |  0.1148 | 0.0198 | 6.863e-09 | -0.002793050 | 0.00117639 | 1.75841e-02 | FALSE |\n",
       "\n"
      ],
      "text/plain": [
       "   SNP        chr.exposure pos.exposure beta.exposure se.exposure pval.exposure\n",
       "1  rs2153904   1           205642790     0.1570       0.0262      1.989e-09    \n",
       "2  rs34311866  4              951947     0.2189       0.0265      1.538e-16    \n",
       "3  rs356182    4            90626111     0.2615       0.0215      4.933e-34    \n",
       "4  rs199452   17            44801340    -0.1792       0.0261      6.460e-12    \n",
       "5  rs35749011  1           155135036     0.6977       0.0806      4.713e-18    \n",
       "6  rs4613239   2           169119609     0.1808       0.0276      5.964e-11    \n",
       "7  rs12637471  3           182762437    -0.1659       0.0244      9.784e-12    \n",
       "8  rs4698412   4            15737348    -0.1311       0.0187      2.209e-12    \n",
       "9  rs75646569  5            60345424     0.1840       0.0295      4.386e-10    \n",
       "10 rs2263418  12            40582993     0.1670       0.0294      1.427e-08    \n",
       "11 rs10847864 12           123326598     0.1317       0.0199      3.775e-11    \n",
       "12 rs4889603  16            30982225     0.1152       0.0208      2.895e-08    \n",
       "13 rs4588066  18            40672964     0.1148       0.0198      6.863e-09    \n",
       "   beta.outcome se.outcome pval.outcome Removed by MR-PRESSO Distortion Test\n",
       "1   0.002441910 0.00147316 9.73962e-02   TRUE                               \n",
       "2  -0.000886335 0.00140517 5.28192e-01   TRUE                               \n",
       "3  -0.000151649 0.00115533 8.95569e-01   TRUE                               \n",
       "4   0.019787700 0.00128609 2.05377e-53   TRUE                               \n",
       "5  -0.019635100 0.00483205 4.83400e-05  FALSE                               \n",
       "6  -0.005849510 0.00165651 4.13648e-04  FALSE                               \n",
       "7   0.000476829 0.00137900 7.29509e-01  FALSE                               \n",
       "8   0.003706840 0.00109754 7.31707e-04  FALSE                               \n",
       "9  -0.002849300 0.00180901 1.15241e-01  FALSE                               \n",
       "10 -0.003558850 0.00178366 4.60140e-02  FALSE                               \n",
       "11 -0.002399190 0.00117574 4.12922e-02  FALSE                               \n",
       "12 -0.004315430 0.00111605 1.10312e-04  FALSE                               \n",
       "13 -0.002793050 0.00117639 1.75841e-02  FALSE                               "
      ]
     },
     "metadata": {},
     "output_type": "display_data"
    }
   ],
   "source": [
    "All_IVs <- rbind(outliers, nonOutliers)\n",
    "All_IVs"
   ]
  },
  {
   "cell_type": "markdown",
   "id": "9bbdfa34-f07c-40c4-9cf1-8871689df168",
   "metadata": {},
   "source": [
    "Outliers: NUCKS1, TMEM175, SNCA, MAPT\n",
    "\n",
    "Kept: GBA, STK39, MCCC1, BST1, ELOVL7, LRRK2, HIP1R, SETD1A, RIT2"
   ]
  },
  {
   "cell_type": "code",
   "execution_count": null,
   "id": "3ba7a297-d99c-4334-983b-f07849dc8b85",
   "metadata": {},
   "outputs": [],
   "source": [
    "All_IVs <- All_IVs %>% rename(\n",
    "    \"CHR\"=\"chr.exposure\",\n",
    "    \"BP\"=\"pos.exposure\"\n",
    ")"
   ]
  },
  {
   "cell_type": "code",
   "execution_count": null,
   "id": "df81dd22-999c-4adb-bf86-26cc9a708d44",
   "metadata": {},
   "outputs": [],
   "source": [
    "singleMR_for_merge <- singleMR[exposure==\"PD_clinical\"][,c(\"exposure\",\"outcome\",\"SNP\",\"b\",\"se\",\"p\")] %>% rename(\n",
    "    \"Effect (Wald Ratio)\"=\"b\",\n",
    "    \"SE (Wald Ratio)\"=\"se\",\n",
    "    \"P (Wald Ratio)\"=\"p\"\n",
    ")"
   ]
  },
  {
   "cell_type": "code",
   "execution_count": null,
   "id": "f796298b-3221-4deb-8a46-74a713f6ca73",
   "metadata": {},
   "outputs": [],
   "source": [
    "All_IVs_Single <- merge(All_IVs, singleMR_for_merge)"
   ]
  },
  {
   "cell_type": "code",
   "execution_count": 152,
   "id": "8ca1877a-472f-4be9-9fef-acb6b943f6e9",
   "metadata": {},
   "outputs": [
    {
     "data": {
      "text/html": [
       "13"
      ],
      "text/latex": [
       "13"
      ],
      "text/markdown": [
       "13"
      ],
      "text/plain": [
       "[1] 13"
      ]
     },
     "metadata": {},
     "output_type": "display_data"
    }
   ],
   "source": [
    "nrow(All_IVs_Single)"
   ]
  },
  {
   "cell_type": "code",
   "execution_count": null,
   "id": "199c4806-bf4f-48e6-b95a-2bbe8ef88560",
   "metadata": {},
   "outputs": [],
   "source": [
    "fwrite(\n",
    "    All_IVs_Single[order(CHR,BP)],\n",
    "    \"results/PD_IVs.csv\"\n",
    ")"
   ]
  },
  {
   "cell_type": "markdown",
   "id": "14cbd8d8-152a-4a70-98b6-897979be511d",
   "metadata": {},
   "source": [
    "Main MR"
   ]
  },
  {
   "cell_type": "code",
   "execution_count": null,
   "id": "c292c933-d259-49ac-8fac-0c7ede880873",
   "metadata": {
    "tags": []
   },
   "outputs": [],
   "source": [
    "resMR <- mr(\n",
    "    postPRESSO_harmonized,\n",
    "    method_list = c(\"mr_ivw\",\"mr_egger_regression\",\"mr_weighted_median\")\n",
    ") %>% as.data.table\n",
    "resMR[,c(\"exposure\",\"outcome\",\"method\",\"nsnp\",\"b\",\"se\",\"pval\",\"id.exposure\",\"id.outcome\")][order(exposure,outcome,method)]"
   ]
  },
  {
   "cell_type": "markdown",
   "id": "686c2fd7-ef0e-4072-a996-d9338077b493",
   "metadata": {},
   "source": [
    "Heterogeneity analysis"
   ]
  },
  {
   "cell_type": "code",
   "execution_count": null,
   "id": "08878142-60e3-4936-8819-e0d1f52577d0",
   "metadata": {},
   "outputs": [],
   "source": [
    "hetMR <- mr_heterogeneity(\n",
    "    postPRESSO_harmonized,\n",
    "    method_list = c(\"mr_ivw\",\"mr_egger_regression\")\n",
    ") %>% as.data.table\n",
    "hetMR[, Isq := round((Q-Q_df)/Q*100, digits = 3)]\n",
    "hetMR[,c(\"exposure\",\"outcome\",\"method\",\"Q\",\"Q_df\",\"Q_pval\",\"Isq\",\"id.exposure\",\"id.outcome\")][order(exposure,outcome,method)]"
   ]
  },
  {
   "cell_type": "markdown",
   "id": "e442f6df-3890-4177-bace-6cfe50513d4e",
   "metadata": {},
   "source": [
    "Egger intercept pleiotropy analysis"
   ]
  },
  {
   "cell_type": "code",
   "execution_count": null,
   "id": "dcbf83f2-92c7-49ed-ade8-a5a5152cbbdd",
   "metadata": {},
   "outputs": [],
   "source": [
    "pleMR <- mr_pleiotropy_test(postPRESSO_harmonized) %>% as.data.table\n",
    "pleMR[,c(\"exposure\",\"outcome\",\"egger_intercept\",\"se\",\"pval\",\"id.exposure\",\"id.outcome\")][order(exposure,outcome)]"
   ]
  },
  {
   "cell_type": "markdown",
   "id": "41eeead0-0416-4aeb-af3e-9a2249c97bd5",
   "metadata": {},
   "source": [
    "Single variant (Wald-ratio) analysis"
   ]
  },
  {
   "cell_type": "code",
   "execution_count": null,
   "id": "e51beae2-b694-4ad7-862b-089c91bfc919",
   "metadata": {},
   "outputs": [],
   "source": [
    "singleMR <- mr_singlesnp(postPRESSO_harmonized) %>% as.data.table\n",
    "singleMR"
   ]
  },
  {
   "cell_type": "markdown",
   "id": "1b55e2ef-e282-45c1-afe0-63a85c10beb6",
   "metadata": {},
   "source": [
    "Leave-one-out"
   ]
  },
  {
   "cell_type": "code",
   "execution_count": null,
   "id": "97be60af-8aa6-4533-9b39-8cf799519abb",
   "metadata": {},
   "outputs": [],
   "source": [
    "looMR <- mr_leaveoneout(postPRESSO_harmonized) %>% as.data.table\n",
    "looMR"
   ]
  },
  {
   "cell_type": "code",
   "execution_count": null,
   "id": "7d610ef5-9d9a-429d-b36e-423a89112b68",
   "metadata": {},
   "outputs": [],
   "source": [
    "fwrite(\n",
    "    resMR,\n",
    "    \"results/PD_smell-POSTPRESSO.MR.csv\"\n",
    ")\n",
    "fwrite(\n",
    "    hetMR,\n",
    "    \"results/PD_smell-POSTPRESSO.het.csv\"\n",
    ")\n",
    "fwrite(\n",
    "    pleMR,\n",
    "    \"results/PD_smell-POSTPRESSO.ple.csv\"\n",
    ")\n",
    "fwrite(\n",
    "    looMR,\n",
    "    \"results/PD_smell-POSTPRESSO.loo.csv\"\n",
    ")\n",
    "fwrite(\n",
    "    singleMR,\n",
    "    \"results/PD_smell-POSTPRESSO.single.csv\"\n",
    ")"
   ]
  }
 ],
 "metadata": {
  "kernelspec": {
   "display_name": "R/4.3",
   "language": "R",
   "name": "ir43"
  },
  "language_info": {
   "codemirror_mode": "r",
   "file_extension": ".r",
   "mimetype": "text/x-r-source",
   "name": "R",
   "pygments_lexer": "r",
   "version": "4.3.2"
  }
 },
 "nbformat": 4,
 "nbformat_minor": 5
}
